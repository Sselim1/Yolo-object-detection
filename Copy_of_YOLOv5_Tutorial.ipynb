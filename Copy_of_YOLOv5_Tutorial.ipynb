{
  "cells": [
    {
      "cell_type": "markdown",
      "metadata": {
        "id": "t6MPjfT5NrKQ"
      },
      "source": [
        "<a align=\"left\" href=\"https://ultralytics.com/yolov5\" target=\"_blank\">\n",
        "<img width=\"1024\", src=\"https://user-images.githubusercontent.com/26833433/125273437-35b3fc00-e30d-11eb-9079-46f313325424.png\"></a>\n",
        "\n",
        "This is the **official YOLOv5 🚀 notebook** by **Ultralytics**, and is freely available for redistribution under the [GPL-3.0 license](https://choosealicense.com/licenses/gpl-3.0/). \n",
        "For more information please visit https://github.com/ultralytics/yolov5 and https://ultralytics.com. Thank you!"
      ]
    },
    {
      "cell_type": "code",
      "execution_count": null,
      "metadata": {
        "id": "Px-_CZrzZV3u"
      },
      "outputs": [],
      "source": [
        "!unzip /content/drive/MyDrive/file.zip"
      ]
    },
    {
      "cell_type": "code",
      "execution_count": null,
      "metadata": {
        "colab": {
          "base_uri": "https://localhost:8080/"
        },
        "id": "-Yocn3k5Z4wG",
        "outputId": "f2d70e14-2c3e-4c82-9540-d6e9db932b8e"
      },
      "outputs": [
        {
          "name": "stdout",
          "output_type": "stream",
          "text": [
            "Mounted at /content/drive\n"
          ]
        }
      ],
      "source": [
        "from google.colab import drive\n",
        "drive.mount('/content/drive')"
      ]
    },
    {
      "cell_type": "code",
      "execution_count": null,
      "metadata": {
        "id": "nakFp-hzTAtB"
      },
      "outputs": [],
      "source": [
        "3import shutil\n",
        "import glob\n",
        "import os \n",
        "lis = os.listdir('/content/drive/MyDrive/MIRNET/train')\n",
        "train = os.listdir('/content/drive/MyDrive/content/train_data/images/train')\n",
        "val = os.listdir('/content/drive/MyDrive/content/train_data/images/val')\n",
        "for i in lis:\n",
        "  if i in train:\n",
        "    os.remove(\"/content/drive/MyDrive/content/train_data/images/train/\"+i)\n",
        "    shutil.move('/content/drive/MyDrive/MIRNET/train/'+i, '/content/drive/MyDrive/content/train_data/images/train/')\n",
        "  if i in val:\n",
        "    os.remove('/content/drive/MyDrive/content/train_data/images/val/'+i)\n",
        "    shutil.move('/content/drive/MyDrive/MIRNET/train/'+i, '/content/drive/MyDrive/content/train_data/images/val/')\n",
        "# lis = glob.glob('/content/drive/MyDrive/MIRNET/train/')\n",
        "# for i in lis:\n",
        "  "
      ]
    },
    {
      "cell_type": "code",
      "execution_count": null,
      "metadata": {
        "id": "e5lQCpif70Jb"
      },
      "outputs": [],
      "source": [
        "import cv2\n",
        "def brightness_normaliztion(img):\n",
        "    hsv = cv2.cvtColor(img, cv2.COLOR_BGR2HSV) #Convert to hsv color system\n",
        "    h,s,v = cv2.split(hsv) #Divided into each component\n",
        "    # plt.hist(v.ravel(),256,[0,256]);plt.show()\n",
        "    result = cv2.equalizeHist(v)\n",
        "    # plt.hist(result.ravel(),256,[0,256]);plt.show()\n",
        "    hsv = cv2.merge((h,s,result))\n",
        "    rgb = cv2.cvtColor(hsv, cv2.COLOR_HSV2BGR)\n",
        "    # rgb = cv2.detailEnhance(rgb, sigma_s=10, sigma_r=0.15)\n",
        "    # rgb = cv2.edgePreservingFilter(rgb, flags=1, sigma_s=64, sigma_r=0.2)\n",
        "    return rgb"
      ]
    },
    {
      "cell_type": "code",
      "execution_count": null,
      "metadata": {
        "id": "07qddmVC712G"
      },
      "outputs": [],
      "source": [
        "import glob\n",
        "lis = glob.glob('/content/drive/MyDrive/content/train_data/images/train/*')\n",
        "for i in lis:\n",
        "  img = brightness_normaliztion(cv2.imread(i))\n",
        "  cv2.imwrite('/content/drive/MyDrive/content/train_data/images/entrain/'+i.split('/')[-1],img)"
      ]
    },
    {
      "cell_type": "code",
      "execution_count": null,
      "metadata": {
        "colab": {
          "base_uri": "https://localhost:8080/"
        },
        "id": "InPAQIL18469",
        "outputId": "9328d856-8734-4e70-c1d1-0c82fb361c2b"
      },
      "outputs": [
        {
          "data": {
            "text/plain": [
              "3000"
            ]
          },
          "execution_count": 12,
          "metadata": {},
          "output_type": "execute_result"
        }
      ],
      "source": [
        "lis = glob.glob('/content/drive/MyDrive/content/train_data/images/entrain/*')\n",
        "len(lis)\n"
      ]
    },
    {
      "cell_type": "code",
      "execution_count": null,
      "metadata": {
        "colab": {
          "base_uri": "https://localhost:8080/"
        },
        "id": "wbvMlHd_QwMG",
        "outputId": "3364e63f-46a2-4189-9a0c-7fd092e44239"
      },
      "outputs": [
        {
          "name": "stderr",
          "output_type": "stream",
          "text": [
            "YOLOv5 🚀 v6.1-234-gd490bdd Python-3.7.13 torch-1.11.0+cu113 CUDA:0 (Tesla T4, 15110MiB)\n"
          ]
        },
        {
          "name": "stdout",
          "output_type": "stream",
          "text": [
            "Setup complete ✅ (2 CPUs, 12.7 GB RAM, 38.7/78.2 GB disk)\n"
          ]
        }
      ],
      "source": [
        "!git clone https://github.com/ultralytics/yolov5  # clone\n",
        "%cd yolov5\n",
        "%pip install -qr requirements.txt  # install\n",
        "\n",
        "import torch\n",
        "import utils\n",
        "display = utils.notebook_init()  # checks"
      ]
    },
    {
      "cell_type": "code",
      "execution_count": null,
      "metadata": {
        "id": "tNtjNEiJ1Eje"
      },
      "outputs": [],
      "source": [
        "import csv\n",
        "fields = ['ImageName', 'nBicycle','nBoat','nBottle','nBus','nCar','nCat','nChair','nCup','nDog','nMotorbike','nPeople','nTable']\n",
        "csvfile = '/content/drive/MyDrive/firstsubbrightness.csv'\n",
        "with open(csvfile, 'w') as f:\n",
        "    write = csv.writer(f)   \n",
        "    write.writerow(fields)\n",
        "    f.close"
      ]
    },
    {
      "cell_type": "code",
      "execution_count": null,
      "metadata": {
        "colab": {
          "base_uri": "https://localhost:8080/"
        },
        "id": "NqxMyhqp4073",
        "outputId": "5191a348-adf0-4cb6-df41-3c957240e9d9"
      },
      "outputs": [
        {
          "data": {
            "text/plain": [
              "1800"
            ]
          },
          "execution_count": 53,
          "metadata": {},
          "output_type": "execute_result"
        }
      ],
      "source": [
        "import glob \n",
        "imgs = glob.glob('/content/drive/MyDrive/the-best/test/*')\n",
        "imgs.sort()\n",
        "len(imgs)"
      ]
    },
    {
      "cell_type": "code",
      "execution_count": null,
      "metadata": {
        "id": "8Am7Icr4X08D"
      },
      "outputs": [],
      "source": [
        "import time\n",
        "t0 = time.time()"
      ]
    },
    {
      "cell_type": "code",
      "execution_count": null,
      "metadata": {
        "colab": {
          "base_uri": "https://localhost:8080/",
          "height": 252
        },
        "id": "zR9ZbuQCH7FX",
        "outputId": "4810e639-3860-4ee3-8e31-7fdab6d9f4f9"
      },
      "outputs": [
        {
          "ename": "IndexError",
          "evalue": "ignored",
          "output_type": "error",
          "traceback": [
            "\u001b[0;31m---------------------------------------------------------------------------\u001b[0m",
            "\u001b[0;31mIndexError\u001b[0m                                Traceback (most recent call last)",
            "\u001b[0;32m<ipython-input-55-eb79db5cfee9>\u001b[0m in \u001b[0;36m<module>\u001b[0;34m()\u001b[0m\n\u001b[1;32m      2\u001b[0m   \u001b[0mout\u001b[0m \u001b[0;34m=\u001b[0m \u001b[0mget_ipython\u001b[0m\u001b[0;34m(\u001b[0m\u001b[0;34m)\u001b[0m\u001b[0;34m.\u001b[0m\u001b[0mgetoutput\u001b[0m\u001b[0;34m(\u001b[0m\u001b[0;34m'python /content/yolov5/detect.py --weights /content/drive/MyDrive/weghits/best.pt --img 640 --conf 0.25 --source {i}'\u001b[0m\u001b[0;34m)\u001b[0m\u001b[0;34m\u001b[0m\u001b[0;34m\u001b[0m\u001b[0m\n\u001b[1;32m      3\u001b[0m   \u001b[0mh\u001b[0m \u001b[0;34m=\u001b[0m \u001b[0mout\u001b[0m\u001b[0;34m[\u001b[0m\u001b[0;36m5\u001b[0m\u001b[0;34m]\u001b[0m\u001b[0;34m.\u001b[0m\u001b[0msplit\u001b[0m\u001b[0;34m(\u001b[0m\u001b[0;34m':'\u001b[0m\u001b[0;34m)\u001b[0m\u001b[0;34m\u001b[0m\u001b[0;34m\u001b[0m\u001b[0m\n\u001b[0;32m----> 4\u001b[0;31m   \u001b[0mh\u001b[0m \u001b[0;34m=\u001b[0m \u001b[0mh\u001b[0m\u001b[0;34m[\u001b[0m\u001b[0;36m1\u001b[0m\u001b[0;34m]\u001b[0m\u001b[0;34m[\u001b[0m\u001b[0;36m8\u001b[0m\u001b[0;34m:\u001b[0m\u001b[0;34m]\u001b[0m\u001b[0;34m.\u001b[0m\u001b[0msplit\u001b[0m\u001b[0;34m(\u001b[0m\u001b[0;34m'.'\u001b[0m\u001b[0;34m)\u001b[0m\u001b[0;34m\u001b[0m\u001b[0;34m\u001b[0m\u001b[0m\n\u001b[0m\u001b[1;32m      5\u001b[0m   \u001b[0mh\u001b[0m \u001b[0;34m=\u001b[0m \u001b[0mh\u001b[0m\u001b[0;34m[\u001b[0m\u001b[0;36m0\u001b[0m\u001b[0;34m]\u001b[0m\u001b[0;34m[\u001b[0m\u001b[0;34m:\u001b[0m\u001b[0;34m-\u001b[0m\u001b[0;36m4\u001b[0m\u001b[0;34m]\u001b[0m\u001b[0;34m.\u001b[0m\u001b[0msplit\u001b[0m\u001b[0;34m(\u001b[0m\u001b[0;34m','\u001b[0m\u001b[0;34m)\u001b[0m\u001b[0;34m\u001b[0m\u001b[0;34m\u001b[0m\u001b[0m\n\u001b[1;32m      6\u001b[0m   \u001b[0mh\u001b[0m \u001b[0;34m=\u001b[0m \u001b[0mh\u001b[0m\u001b[0;34m[\u001b[0m\u001b[0;34m:\u001b[0m\u001b[0;34m-\u001b[0m\u001b[0;36m1\u001b[0m\u001b[0;34m]\u001b[0m\u001b[0;34m\u001b[0m\u001b[0;34m\u001b[0m\u001b[0m\n",
            "\u001b[0;31mIndexError\u001b[0m: list index out of range"
          ]
        }
      ],
      "source": [
        "for i in imgs:\n",
        "  out = !python /content/yolov5/detect.py --weights /content/drive/MyDrive/weghits/best.pt --img 640 --conf 0.25 --source {i}\n",
        "  h = out[5].split(':')\n",
        "  h = h[1][8:].split('.')\n",
        "  h = h[0][:-4].split(',')\n",
        "  h = h[:-1]\n",
        "  counter = [i.split('/')[-1],0,0,0,0,0,0,0,0,0,0,0,0]\n",
        "  for ele in h:\n",
        "    ans = ele.split(' ')\n",
        "    if ans[2]== 'bicycle' or ans[2]== 'bicycles':\n",
        "        counter[1]= ans[1]\n",
        "    elif ans[2]== 'boat' or ans[2]== 'boats':\n",
        "        counter[2]= ans[1]\n",
        "    elif ans[2]== 'bottle' or ans[2]== 'bottles':\n",
        "        counter[3]= ans[1]\n",
        "    elif ans[2]== 'bus' or ans[2]== 'buses':\n",
        "        counter[4]= ans[1]\n",
        "    elif ans[2]== 'car' or ans[2]== 'cars':\n",
        "        counter[5]= ans[1]\n",
        "    elif ans[2]== 'cat' or ans[2]== 'cats':\n",
        "        counter[6]= ans[1]\n",
        "    elif ans[2]== 'chair' or ans[2]== 'chairs':\n",
        "        counter[7]= ans[1]\n",
        "    elif ans[2]== 'cup' or ans[2]=='cups':\n",
        "        counter[8]= ans[1]\n",
        "    elif ans[2]== 'dog' or ans[2]== 'dogs':\n",
        "        counter[9]= ans[1]\n",
        "    elif ans[2]== 'motorbike' or ans[2]== 'motorbikes':\n",
        "        counter[10]= ans[1]\n",
        "    elif ans[2]== 'person' or ans[2]== 'persons':\n",
        "        counter[11]= ans[1]\n",
        "    elif ans[2]== 'table' or ans[2]== 'tables':\n",
        "        counter[12]= ans[1]   \n",
        "  with open(csvfile, 'a') as f:\n",
        "    write = csv.writer(f)   \n",
        "    write.writerow(counter)"
      ]
    },
    {
      "cell_type": "code",
      "execution_count": null,
      "metadata": {
        "id": "TRmQl6pTX41I"
      },
      "outputs": [],
      "source": [
        "t1 = time.time()\n",
        "total = t1-t0\n",
        "total/60"
      ]
    },
    {
      "cell_type": "code",
      "execution_count": null,
      "metadata": {
        "id": "KpiqOFymlxz9"
      },
      "outputs": [],
      "source": [
        "out = !python /content/yolov5/detect.py --weights /content/drive/MyDrive/weghits/last.pt --img 640 --conf 0.25 --source /content/drive/MyDrive/imhh.jpg"
      ]
    },
    {
      "cell_type": "code",
      "execution_count": null,
      "metadata": {
        "id": "f5lZxbiRAFUL"
      },
      "outputs": [],
      "source": [
        "outt = !python /content/yolov5/detect.py --weights /content/drive/MyDrive/weghits/last.pt --img 640 --conf 0.25 --source '/content/drive/MyDrive/bata/Test/Images/2019_00256.jpg'"
      ]
    },
    {
      "cell_type": "code",
      "execution_count": null,
      "metadata": {
        "id": "JSOebe1lFc2C"
      },
      "outputs": [],
      "source": [
        "dic = {}"
      ]
    },
    {
      "cell_type": "code",
      "execution_count": null,
      "metadata": {
        "id": "HcwWWPhynUyy"
      },
      "outputs": [],
      "source": [
        "import csv\n",
        "fields = ['ImageName', 'nBicycle','nBoat','nBottle','nBus','nCar','nCat','nChair','nCup','nDog','nMotorbike','nPeople','nTable']\n",
        "csvfile = '/content/drive/MyDrive/firstsubbrightness.csv'\n",
        "with open(csvfile, 'w') as f:\n",
        "    write = csv.writer(f)   \n",
        "    write.writerow(fields)\n",
        "    f.close\n",
        "import argparse\n",
        "import os\n",
        "import sys\n",
        "from pathlib import Path\n",
        "\n",
        "import torch\n",
        "import torch.backends.cudnn as cudnn\n",
        "\n",
        "\n",
        "\n",
        "from models.common import DetectMultiBackend\n",
        "from utils.dataloaders import IMG_FORMATS, VID_FORMATS, LoadImages, LoadStreams\n",
        "from utils.general import (LOGGER, check_file, check_img_size, check_imshow, check_requirements, colorstr, cv2,\n",
        "                           increment_path, non_max_suppression, print_args, scale_coords, strip_optimizer, xyxy2xywh)\n",
        "from utils.plots import Annotator, colors, save_one_box\n",
        "from utils.torch_utils import select_device, time_sync\n",
        "dic = {}\n",
        "@torch.no_grad()\n",
        "def run(\n",
        "        weights= '/content/yolov5/runs/train/exp5/weights/best.pt',  # model.pt path(s)\n",
        "        source= '/content/drive/MyDrive/the-best/test/',  # file/dir/URL/glob, 0 for webcam\n",
        "        data= 'data/coco128.yaml',  # dataset.yaml path\n",
        "        imgsz=(640, 640),  # inference size (height, width)\n",
        "        conf_thres=0.25,  # confidence threshold\n",
        "        iou_thres=0.45,  # NMS IOU threshold\n",
        "        max_det=1000,  # maximum detections per image\n",
        "        device='',  # cuda device, i.e. 0 or 0,1,2,3 or cpu\n",
        "        view_img=False,  # show results\n",
        "        save_txt=False,  # save results to *.txt\n",
        "        save_conf=False,  # save confidences in --save-txt labels\n",
        "        save_crop=False,  # save cropped prediction boxes\n",
        "        nosave=False,  # do not save images/videos\n",
        "        classes=None,  # filter by class: --class 0, or --class 0 2 3\n",
        "        agnostic_nms=False,  # class-agnostic NMS\n",
        "        augment=False,  # augmented inference\n",
        "        visualize=False,  # visualize features\n",
        "        update=False,  # update all models\n",
        "        project= 'runs/detect',  # save results to project/name\n",
        "        name='exp',  # save results to project/name\n",
        "        exist_ok=False,  # existing project/name ok, do not increment\n",
        "        line_thickness=3,  # bounding box thickness (pixels)\n",
        "        hide_labels=False,  # hide labels\n",
        "        hide_conf=False,  # hide confidences\n",
        "        half=False,  # use FP16 half-precision inference\n",
        "        dnn=False,  # use OpenCV DNN for ONNX inference\n",
        "):\n",
        "    source = str(source)\n",
        "    save_img = not nosave and not source.endswith('.txt')  # save inference images\n",
        "    is_file = Path(source).suffix[1:] in (IMG_FORMATS + VID_FORMATS)\n",
        "    is_url = source.lower().startswith(('rtsp://', 'rtmp://', 'http://', 'https://'))\n",
        "    webcam = source.isnumeric() or source.endswith('.txt') or (is_url and not is_file)\n",
        "    if is_url and is_file:\n",
        "        source = check_file(source)  # download\n",
        "\n",
        "    # Directories\n",
        "    save_dir = increment_path(Path(project) / name, exist_ok=exist_ok)  # increment run\n",
        "    (save_dir / 'labels' if save_txt else save_dir).mkdir(parents=True, exist_ok=True)  # make dir\n",
        "\n",
        "    # Load model\n",
        "    device = select_device(device)\n",
        "    model = DetectMultiBackend(weights, device=device, dnn=dnn, data=data, fp16=half)\n",
        "    stride, names, pt = model.stride, model.names, model.pt\n",
        "    imgsz = check_img_size(imgsz, s=stride)  # check image size\n",
        "\n",
        "    # Dataloader\n",
        "    if webcam:\n",
        "        view_img = check_imshow()\n",
        "        cudnn.benchmark = True  # set True to speed up constant image size inference\n",
        "        dataset = LoadStreams(source, img_size=imgsz, stride=stride, auto=pt)\n",
        "        bs = len(dataset)  # batch_size\n",
        "    else:\n",
        "        dataset = LoadImages(source, img_size=imgsz, stride=stride, auto=pt)\n",
        "        bs = 1  # batch_size\n",
        "    vid_path, vid_writer = [None] * bs, [None] * bs\n",
        "\n",
        "    # Run inference\n",
        "    model.warmup(imgsz=(1 if pt else bs, 3, *imgsz))  # warmup\n",
        "    dt, seen = [0.0, 0.0, 0.0], 0\n",
        "    for path, im, im0s, vid_cap, s in dataset:\n",
        "        t1 = time_sync()\n",
        "        im = torch.from_numpy(im).to(device)\n",
        "        im = im.half() if model.fp16 else im.float()  # uint8 to fp16/32\n",
        "        im /= 255  # 0 - 255 to 0.0 - 1.0\n",
        "        if len(im.shape) == 3:\n",
        "            im = im[None]  # expand for batch dim\n",
        "        t2 = time_sync()\n",
        "        dt[0] += t2 - t1\n",
        "\n",
        "        # Inference\n",
        "        visualize = increment_path(save_dir / Path(path).stem, mkdir=True) if visualize else False\n",
        "        pred = model(im, augment=augment, visualize=visualize)\n",
        "        t3 = time_sync()\n",
        "        dt[1] += t3 - t2\n",
        "\n",
        "        # NMS\n",
        "        pred = non_max_suppression(pred, conf_thres, iou_thres, classes, agnostic_nms, max_det=max_det)\n",
        "        dt[2] += time_sync() - t3\n",
        "\n",
        "        # Second-stage classifier (optional)\n",
        "        # pred = utils.general.apply_classifier(pred, classifier_model, im, im0s)\n",
        "\n",
        "        # Process predictions\n",
        "        for i, det in enumerate(pred):  # per image\n",
        "            seen += 1\n",
        "            if webcam:  # batch_size >= 1\n",
        "                p, im0, frame = path[i], im0s[i].copy(), dataset.count\n",
        "                s += f'{i} '\n",
        "            else:\n",
        "                p, im0, frame = path, im0s.copy(), getattr(dataset, 'frame', 0)\n",
        "\n",
        "            p = Path(p)  # to Path\n",
        "            save_path = str(save_dir / p.name)  # im.jpg\n",
        "            txt_path = str(save_dir / 'labels' / p.stem) + ('' if dataset.mode == 'image' else f'_{frame}')  # im.txt\n",
        "            name = s.split('/')[-1]\n",
        "            name = name.split(':')[0]\n",
        "            s += '%gx%g ' % im.shape[2:]  # print string\n",
        "            gn = torch.tensor(im0.shape)[[1, 0, 1, 0]]  # normalization gain whwh\n",
        "            imc = im0.copy() if save_crop else im0  # for save_crop\n",
        "            annotator = Annotator(im0, line_width=line_thickness, example=str(names))\n",
        "            counter = [name,0,0,0,0,0,0,0,0,0,0,0,0]\n",
        "            if len(det):\n",
        "                # Rescale boxes from img_size to im0 size\n",
        "                det[:, :4] = scale_coords(im.shape[2:], det[:, :4], im0.shape).round()\n",
        "                dic[name]= det.tolist()\n",
        "\n",
        "                # Print results\n",
        "                for c in det[:, -1].unique():\n",
        "                    n = (det[:, -1] == c).sum()  # detections per class\n",
        "                    s += f\"{n} {names[int(c)]}{'s' * (n > 1)}, \"  # add to string\n",
        "                    counter[int(c)+1]=int(n)\n",
        "                # print(counter)   \n",
        "                    # Write results\n",
        "                for *xyxy, conf, cls in reversed(det):\n",
        "                    if save_txt:  # Write to file\n",
        "                        xywh = (xyxy2xywh(torch.tensor(xyxy).view(1, 4)) / gn).view(-1).tolist()  # normalized xywh\n",
        "                        line = (cls, *xywh, conf) if save_conf else (cls, *xywh)  # label format\n",
        "                        with open(f'{txt_path}.txt', 'a') as f:\n",
        "                            f.write(('%g ' * len(line)).rstrip() % line + '\\n')\n",
        "\n",
        "                    if save_img or save_crop or view_img:  # Add bbox to image\n",
        "                        c = int(cls)  # integer class\n",
        "                        label = None if hide_labels else (names[c] if hide_conf else f'{names[c]} {conf:.2f}')\n",
        "                        annotator.box_label(xyxy, label, color=colors(c, True))\n",
        "                    if save_crop:\n",
        "                        save_one_box(xyxy, imc, file=save_dir / 'crops' / names[c] / f'{p.stem}.jpg', BGR=True)\n",
        "            with open(csvfile, 'a') as f:\n",
        "              write = csv.writer(f)   \n",
        "              write.writerow(counter)\n",
        "            # Stream results\n",
        "            im0 = annotator.result()\n",
        "            if view_img:\n",
        "                cv2.imshow(str(p), im0)\n",
        "                cv2.waitKey(1)  # 1 millisecond\n",
        "\n",
        "            # Save results (image with detections)\n",
        "            if save_img:\n",
        "                if dataset.mode == 'image':\n",
        "                    cv2.imwrite(save_path, im0)\n",
        "                else:  # 'video' or 'stream'\n",
        "                    if vid_path[i] != save_path:  # new video\n",
        "                        vid_path[i] = save_path\n",
        "                        if isinstance(vid_writer[i], cv2.VideoWriter):\n",
        "                            vid_writer[i].release()  # release previous video writer\n",
        "                        if vid_cap:  # video\n",
        "                            fps = vid_cap.get(cv2.CAP_PROP_FPS)\n",
        "                            w = int(vid_cap.get(cv2.CAP_PROP_FRAME_WIDTH))\n",
        "                            h = int(vid_cap.get(cv2.CAP_PROP_FRAME_HEIGHT))\n",
        "                        else:  # stream\n",
        "                            fps, w, h = 30, im0.shape[1], im0.shape[0]\n",
        "                        save_path = str(Path(save_path).with_suffix('.mp4'))  # force *.mp4 suffix on results videos\n",
        "                        vid_writer[i] = cv2.VideoWriter(save_path, cv2.VideoWriter_fourcc(*'mp4v'), fps, (w, h))\n",
        "                    vid_writer[i].write(im0)\n",
        "\n",
        "        # Print time (inference-only)\n",
        "        LOGGER.info(f'{s}Done. ({t3 - t2:.3f}s)')\n",
        "\n",
        "    # Print results\n",
        "    t = tuple(x / seen * 1E3 for x in dt)  # speeds per image\n",
        "    LOGGER.info(f'Speed: %.1fms pre-process, %.1fms inference, %.1fms NMS per image at shape {(1, 3, *imgsz)}' % t)\n",
        "    if save_txt or save_img:\n",
        "        s = f\"\\n{len(list(save_dir.glob('labels/*.txt')))} labels saved to {save_dir / 'labels'}\" if save_txt else ''\n",
        "        LOGGER.info(f\"Results saved to {colorstr('bold', save_dir)}{s}\")\n",
        "    if update:\n",
        "        strip_optimizer(weights)  # update model (to fix SourceChangeWarning)\n",
        "run()\n",
        "# print(dic)"
      ]
    },
    {
      "cell_type": "code",
      "execution_count": null,
      "metadata": {
        "colab": {
          "base_uri": "https://localhost:8080/"
        },
        "id": "O8L-M-BvtJUH",
        "outputId": "81c4fbe0-de58-436e-8672-2938a51e6fa1"
      },
      "outputs": [
        {
          "data": {
            "text/plain": [
              "{'2019_00308.jpg': [[66.0, 440.0, 591.0, 758.0, 0.8919649124145508, 0.0]]}"
            ]
          },
          "execution_count": 6,
          "metadata": {},
          "output_type": "execute_result"
        }
      ],
      "source": [
        "dic"
      ]
    },
    {
      "cell_type": "code",
      "execution_count": null,
      "metadata": {
        "id": "bzDb7HMsqAib"
      },
      "outputs": [],
      "source": [
        "import pickle\n",
        "\n",
        "# Store data (serialize)\n",
        "with open('/content/drive/MyDrive/enfinalboxes.pickle', 'wb') as handle:\n",
        "    pickle.dump(dic, handle, protocol=pickle.HIGHEST_PROTOCOL)\n",
        "\n",
        "# Load data (deserialize)\n",
        "# with open('filename.pickle', 'rb') as handle:\n",
        "#     unserialized_data = pickle.load(handle)\n",
        "\n",
        "# print(your_data == unserialized_data)"
      ]
    },
    {
      "cell_type": "code",
      "execution_count": null,
      "metadata": {
        "id": "6YrgYeN8FYBk"
      },
      "outputs": [],
      "source": [
        ""
      ]
    },
    {
      "cell_type": "markdown",
      "metadata": {
        "id": "0eq1SMWl6Sfn"
      },
      "source": [
        "# 2. Validate\n",
        "Validate a model's accuracy on [COCO](https://cocodataset.org/#home) val or test-dev datasets. Models are downloaded automatically from the [latest YOLOv5 release](https://github.com/ultralytics/yolov5/releases). To show results by class use the `--verbose` flag. Note that `pycocotools` metrics may be ~1% better than the equivalent repo metrics, as is visible below, due to slight differences in mAP computation."
      ]
    },
    {
      "cell_type": "markdown",
      "metadata": {
        "id": "eyTZYGgRjnMc"
      },
      "source": [
        "## COCO val\n",
        "Download [COCO val 2017](https://github.com/ultralytics/yolov5/blob/74b34872fdf41941cddcf243951cdb090fbac17b/data/coco.yaml#L14) dataset (1GB - 5000 images), and test model accuracy."
      ]
    },
    {
      "cell_type": "code",
      "execution_count": null,
      "metadata": {
        "colab": {
          "base_uri": "https://localhost:8080/",
          "height": 49,
          "referenced_widgets": [
            "d90eeb56398f458086e3b2b41dbd9fec",
            "d91d8347f17349a4987cea29eac0a49c",
            "8f4ffda703ac4348ab7edf1d12a188e1",
            "8c2d91f564de45f8a403386eeeccac27",
            "5dd95d3eda8b49f7910620edcdcbdcdc",
            "520e5b7e80eb450188261cffbc574d25",
            "3cef138c5f7743858bb0f87b65dd3c76",
            "c3782c6dda80400ba7f8c5345624bf87",
            "11415bab172a4904b73e29ff60f6fce1",
            "eac18040908042dbae67a47d23e95b47",
            "e0fc1d6eb478469c9098aa9518d7b358"
          ]
        },
        "id": "WQPtK1QYVaD_",
        "outputId": "26f3c005-cc13-4b7c-8523-844b56a0b0e3"
      },
      "outputs": [
        {
          "data": {
            "application/vnd.jupyter.widget-view+json": {
              "model_id": "d90eeb56398f458086e3b2b41dbd9fec",
              "version_major": 2,
              "version_minor": 0
            },
            "text/plain": [
              "  0%|          | 0.00/780M [00:00<?, ?B/s]"
            ]
          },
          "metadata": {},
          "output_type": "display_data"
        }
      ],
      "source": [
        "# Download COCO val\n",
        "torch.hub.download_url_to_file('https://ultralytics.com/assets/coco2017val.zip', 'tmp.zip')\n",
        "!unzip -q tmp.zip -d ../datasets && rm tmp.zip"
      ]
    },
    {
      "cell_type": "code",
      "execution_count": null,
      "metadata": {
        "colab": {
          "base_uri": "https://localhost:8080/"
        },
        "id": "X58w8JLpMnjH",
        "outputId": "c75ffaf5-076f-4e59-b8a9-04acd96e1a63"
      },
      "outputs": [
        {
          "name": "stdout",
          "output_type": "stream",
          "text": [
            "\u001b[34m\u001b[1mval: \u001b[0mdata=/content/yolov5/data/coco.yaml, weights=['yolov5x.pt'], batch_size=32, imgsz=640, conf_thres=0.001, iou_thres=0.65, task=val, device=, workers=8, single_cls=False, augment=False, verbose=False, save_txt=False, save_hybrid=False, save_conf=False, save_json=True, project=runs/val, name=exp, exist_ok=False, half=True, dnn=False\n",
            "YOLOv5 🚀 v6.1-184-g9d8ed37 torch 1.11.0+cu113 CUDA:0 (Tesla T4, 15110MiB)\n",
            "\n",
            "Downloading https://github.com/ultralytics/yolov5/releases/download/v6.1/yolov5x.pt to yolov5x.pt...\n",
            " 71% 117M/166M [00:06<00:02, 18.3MB/s]\n",
            "Traceback (most recent call last):\n",
            "  File \"/content/yolov5/utils/downloads.py\", line 42, in safe_download\n",
            "    torch.hub.download_url_to_file(url, str(file), progress=LOGGER.level <= logging.INFO)\n",
            "  File \"/usr/local/lib/python3.7/dist-packages/torch/hub.py\", line 479, in download_url_to_file\n",
            "    buffer = u.read(8192)\n",
            "  File \"/usr/lib/python3.7/http/client.py\", line 465, in read\n",
            "    n = self.readinto(b)\n",
            "  File \"/usr/lib/python3.7/http/client.py\", line 509, in readinto\n",
            "    n = self.fp.readinto(b)\n",
            "  File \"/usr/lib/python3.7/socket.py\", line 589, in readinto\n",
            "    return self._sock.recv_into(b)\n",
            "  File \"/usr/lib/python3.7/ssl.py\", line 1071, in recv_into\n",
            "    return self.read(nbytes, buffer)\n",
            "  File \"/usr/lib/python3.7/ssl.py\", line 929, in read\n",
            "    return self._sslobj.read(len, buffer)\n",
            "KeyboardInterrupt\n",
            "\n",
            "During handling of the above exception, another exception occurred:\n",
            "\n",
            "Traceback (most recent call last):\n",
            "  File \"val.py\", line 396, in <module>\n",
            "    main(opt)\n",
            "  File \"val.py\", line 369, in main\n",
            "    run(**vars(opt))\n",
            "  File \"/usr/local/lib/python3.7/dist-packages/torch/autograd/grad_mode.py\", line 27, in decorate_context\n",
            "    return func(*args, **kwargs)\n",
            "  File \"val.py\", line 140, in run\n",
            "    model = DetectMultiBackend(weights, device=device, dnn=dnn, data=data, fp16=half)\n",
            "  File \"/content/yolov5/models/common.py\", line 300, in __init__\n",
            "    w = attempt_download(w)  # download if not local\n",
            "  File \"/content/yolov5/utils/downloads.py\", line 102, in attempt_download\n",
            "    error_msg=f'{file} missing, try downloading from https://github.com/{repo}/releases/{tag} or {url3}')\n",
            "  File \"/content/yolov5/utils/downloads.py\", line 50, in safe_download\n",
            "    file.unlink(missing_ok=True)  # remove partial downloads\n",
            "TypeError: unlink() got an unexpected keyword argument 'missing_ok'\n"
          ]
        }
      ],
      "source": [
        "# Run YOLOv5x on COCO val\n",
        "!python val.py --weights yolov5x.pt --data coco.yaml --img 640 --iou 0.65 --half"
      ]
    },
    {
      "cell_type": "markdown",
      "metadata": {
        "id": "rc_KbFk0juX2"
      },
      "source": [
        "## COCO test\n",
        "Download [COCO test2017](https://github.com/ultralytics/yolov5/blob/74b34872fdf41941cddcf243951cdb090fbac17b/data/coco.yaml#L15) dataset (7GB - 40,000 images), to test model accuracy on test-dev set (**20,000 images, no labels**). Results are saved to a `*.json` file which should be **zipped** and submitted to the evaluation server at https://competitions.codalab.org/competitions/20794."
      ]
    },
    {
      "cell_type": "code",
      "execution_count": null,
      "metadata": {
        "id": "V0AJnSeCIHyJ"
      },
      "outputs": [],
      "source": [
        "# Download COCO test-dev2017\n",
        "torch.hub.download_url_to_file('https://ultralytics.com/assets/coco2017labels.zip', 'tmp.zip')\n",
        "!unzip -q tmp.zip -d ../datasets && rm tmp.zip\n",
        "!f=\"test2017.zip\" && curl http://images.cocodataset.org/zips/$f -o $f && unzip -q $f -d ../datasets/coco/images"
      ]
    },
    {
      "cell_type": "code",
      "execution_count": null,
      "metadata": {
        "id": "29GJXAP_lPrt"
      },
      "outputs": [],
      "source": [
        "# Run YOLOv5x on COCO test\n",
        "!python val.py --weights yolov5x.pt --data coco.yaml --img 640 --iou 0.65 --half --task test"
      ]
    },
    {
      "cell_type": "markdown",
      "metadata": {
        "id": "ZY2VXXXu74w5"
      },
      "source": [
        "# 3. Train\n",
        "\n",
        "<p align=\"\"><a href=\"https://roboflow.com/?ref=ultralytics\"><img width=\"1000\" src=\"https://uploads-ssl.webflow.com/5f6bc60e665f54545a1e52a5/615627e5824c9c6195abfda9_computer-vision-cycle.png\"/></a></p>\n",
        "Close the active learning loop by sampling images from your inference conditions with the `roboflow` pip package\n",
        "<br><br>\n",
        "\n",
        "Train a YOLOv5s model on the [COCO128](https://www.kaggle.com/ultralytics/coco128) dataset with `--data coco128.yaml`, starting from pretrained `--weights yolov5s.pt`, or from randomly initialized `--weights '' --cfg yolov5s.yaml`.\n",
        "\n",
        "- **Pretrained [Models](https://github.com/ultralytics/yolov5/tree/master/models)** are downloaded\n",
        "automatically from the [latest YOLOv5 release](https://github.com/ultralytics/yolov5/releases)\n",
        "- **[Datasets](https://github.com/ultralytics/yolov5/tree/master/data)** available for autodownload include: [COCO](https://github.com/ultralytics/yolov5/blob/master/data/coco.yaml), [COCO128](https://github.com/ultralytics/yolov5/blob/master/data/coco128.yaml), [VOC](https://github.com/ultralytics/yolov5/blob/master/data/VOC.yaml), [Argoverse](https://github.com/ultralytics/yolov5/blob/master/data/Argoverse.yaml), [VisDrone](https://github.com/ultralytics/yolov5/blob/master/data/VisDrone.yaml), [GlobalWheat](https://github.com/ultralytics/yolov5/blob/master/data/GlobalWheat2020.yaml), [xView](https://github.com/ultralytics/yolov5/blob/master/data/xView.yaml), [Objects365](https://github.com/ultralytics/yolov5/blob/master/data/Objects365.yaml), [SKU-110K](https://github.com/ultralytics/yolov5/blob/master/data/SKU-110K.yaml).\n",
        "- **Training Results** are saved to `runs/train/` with incrementing run directories, i.e. `runs/train/exp2`, `runs/train/exp3` etc.\n",
        "<br><br>\n",
        "\n",
        "## Train on Custom Data with Roboflow 🌟 NEW\n",
        "\n",
        "[Roboflow](https://roboflow.com/?ref=ultralytics) enables you to easily **organize, label, and prepare** a high quality dataset with your own custom data. Roboflow also makes it easy to establish an active learning pipeline, collaborate with your team on dataset improvement, and integrate directly into your model building workflow with the `roboflow` pip package.\n",
        "\n",
        "- Custom Training Example: [https://blog.roboflow.com/how-to-train-yolov5-on-a-custom-dataset/](https://blog.roboflow.com/how-to-train-yolov5-on-a-custom-dataset/?ref=ultralytics)\n",
        "- Custom Training Notebook: [![Open In Colab](https://colab.research.google.com/assets/colab-badge.svg)](https://colab.research.google.com/github/roboflow-ai/yolov5-custom-training-tutorial/blob/main/yolov5-custom-training.ipynb)\n",
        "<br>\n",
        "\n",
        "<p align=\"\"><a href=\"https://roboflow.com/?ref=ultralytics\"><img width=\"480\" src=\"https://uploads-ssl.webflow.com/5f6bc60e665f54545a1e52a5/6152a275ad4b4ac20cd2e21a_roboflow-annotate.gif\"/></a></p>Label images lightning fast (including with model-assisted labeling)"
      ]
    },
    {
      "cell_type": "code",
      "execution_count": null,
      "metadata": {
        "id": "bOy5KI2ncnWd"
      },
      "outputs": [],
      "source": [
        "# Tensorboard  (optional)\n",
        "%load_ext tensorboard\n",
        "%tensorboard --logdir runs/train"
      ]
    },
    {
      "cell_type": "code",
      "execution_count": null,
      "metadata": {
        "id": "2fLAV42oNb7M"
      },
      "outputs": [],
      "source": [
        "# Weights & Biases  (optional)\n",
        "%pip install -q wandb\n",
        "import wandb\n",
        "wandb.login()"
      ]
    },
    {
      "cell_type": "code",
      "execution_count": null,
      "metadata": {
        "colab": {
          "base_uri": "https://localhost:8080/"
        },
        "id": "mxtRTAUSnunM",
        "outputId": "0f51572e-56f6-44e1-c0fa-27f0e7f7352d"
      },
      "outputs": [
        {
          "name": "stdout",
          "output_type": "stream",
          "text": [
            "/content/yolov5\n"
          ]
        }
      ],
      "source": [
        "%cd yolov5"
      ]
    },
    {
      "cell_type": "code",
      "execution_count": null,
      "metadata": {
        "colab": {
          "background_save": true,
          "base_uri": "https://localhost:8080/"
        },
        "id": "1NcFxRcFdJ_O",
        "outputId": "4b0d9c5d-e0e9-4b6b-9fd4-f4b988ce7fa3"
      },
      "outputs": [
        {
          "name": "stdout",
          "output_type": "stream",
          "text": [
            "\u001b[34m\u001b[1mtrain: \u001b[0mweights=yolov5s.pt, cfg=, data=coco128.yaml, hyp=data/hyps/hyp.scratch-low.yaml, epochs=90, batch_size=32, imgsz=614, rect=False, resume=False, nosave=False, noval=False, noautoanchor=False, noplots=False, evolve=None, bucket=, cache=ram, image_weights=False, device=, multi_scale=False, single_cls=False, optimizer=SGD, sync_bn=False, workers=8, project=runs/train, name=exp, exist_ok=False, quad=False, cos_lr=False, label_smoothing=0.0, patience=100, freeze=[0], save_period=-1, local_rank=-1, entity=None, upload_dataset=False, bbox_interval=-1, artifact_alias=latest\n",
            "remote: Enumerating objects: 18, done.\u001b[K\n",
            "remote: Counting objects: 100% (18/18), done.\u001b[K\n",
            "remote: Compressing objects: 100% (5/5), done.\u001b[K\n",
            "remote: Total 18 (delta 13), reused 18 (delta 13), pack-reused 0\u001b[K\n",
            "Unpacking objects: 100% (18/18), done.\n",
            "From https://github.com/ultralytics/yolov5\n",
            " * [new branch]      docker     -> origin/docker\n",
            "   fd840d5..3a87c37  v7.0       -> origin/v7.0\n",
            "\u001b[34m\u001b[1mgithub: \u001b[0mup to date with https://github.com/ultralytics/yolov5 ✅\n",
            "YOLOv5 🚀 v6.1-234-gd490bdd Python-3.7.13 torch-1.11.0+cu113 CUDA:0 (Tesla T4, 15110MiB)\n",
            "\n",
            "\u001b[34m\u001b[1mhyperparameters: \u001b[0mlr0=0.01, lrf=0.01, momentum=0.937, weight_decay=0.0005, warmup_epochs=3.0, warmup_momentum=0.8, warmup_bias_lr=0.1, box=0.05, cls=0.5, cls_pw=1.0, obj=1.0, obj_pw=1.0, iou_t=0.2, anchor_t=4.0, fl_gamma=0.0, hsv_h=0.015, hsv_s=0.7, hsv_v=0.4, degrees=0.0, translate=0.1, scale=0.5, shear=0.0, perspective=0.0, flipud=0.0, fliplr=0.5, mosaic=1.0, mixup=0.0, copy_paste=0.0\n",
            "\u001b[34m\u001b[1mWeights & Biases: \u001b[0mrun 'pip install wandb' to automatically track and visualize YOLOv5 🚀 runs (RECOMMENDED)\n",
            "\u001b[34m\u001b[1mTensorBoard: \u001b[0mStart with 'tensorboard --logdir runs/train', view at http://localhost:6006/\n",
            "Overriding model.yaml nc=80 with nc=12\n",
            "\n",
            "                 from  n    params  module                                  arguments                     \n",
            "  0                -1  1      3520  models.common.Conv                      [3, 32, 6, 2, 2]              \n",
            "  1                -1  1     18560  models.common.Conv                      [32, 64, 3, 2]                \n",
            "  2                -1  1     18816  models.common.C3                        [64, 64, 1]                   \n",
            "  3                -1  1     73984  models.common.Conv                      [64, 128, 3, 2]               \n",
            "  4                -1  2    115712  models.common.C3                        [128, 128, 2]                 \n",
            "  5                -1  1    295424  models.common.Conv                      [128, 256, 3, 2]              \n",
            "  6                -1  3    625152  models.common.C3                        [256, 256, 3]                 \n",
            "  7                -1  1   1180672  models.common.Conv                      [256, 512, 3, 2]              \n",
            "  8                -1  1   1182720  models.common.C3                        [512, 512, 1]                 \n",
            "  9                -1  1    656896  models.common.SPPF                      [512, 512, 5]                 \n",
            " 10                -1  1    131584  models.common.Conv                      [512, 256, 1, 1]              \n",
            " 11                -1  1         0  torch.nn.modules.upsampling.Upsample    [None, 2, 'nearest']          \n",
            " 12           [-1, 6]  1         0  models.common.Concat                    [1]                           \n",
            " 13                -1  1    361984  models.common.C3                        [512, 256, 1, False]          \n",
            " 14                -1  1     33024  models.common.Conv                      [256, 128, 1, 1]              \n",
            " 15                -1  1         0  torch.nn.modules.upsampling.Upsample    [None, 2, 'nearest']          \n",
            " 16           [-1, 4]  1         0  models.common.Concat                    [1]                           \n",
            " 17                -1  1     90880  models.common.C3                        [256, 128, 1, False]          \n",
            " 18                -1  1    147712  models.common.Conv                      [128, 128, 3, 2]              \n",
            " 19          [-1, 14]  1         0  models.common.Concat                    [1]                           \n",
            " 20                -1  1    296448  models.common.C3                        [256, 256, 1, False]          \n",
            " 21                -1  1    590336  models.common.Conv                      [256, 256, 3, 2]              \n",
            " 22          [-1, 10]  1         0  models.common.Concat                    [1]                           \n",
            " 23                -1  1   1182720  models.common.C3                        [512, 512, 1, False]          \n",
            " 24      [17, 20, 23]  1     45849  models.yolo.Detect                      [12, [[10, 13, 16, 30, 33, 23], [30, 61, 62, 45, 59, 119], [116, 90, 156, 198, 373, 326]], [128, 256, 512]]\n",
            "Model summary: 270 layers, 7051993 parameters, 7051993 gradients, 15.9 GFLOPs\n",
            "\n",
            "Transferred 343/349 items from yolov5s.pt\n",
            "\u001b[34m\u001b[1mAMP: \u001b[0mchecks passed ✅\n",
            "WARNING: --img-size 614 must be multiple of max stride 32, updating to 640\n",
            "Scaled weight_decay = 0.0005\n",
            "\u001b[34m\u001b[1moptimizer:\u001b[0m SGD with parameter groups 57 weight (no decay), 60 weight, 60 bias\n",
            "\u001b[34m\u001b[1malbumentations: \u001b[0mversion 1.0.3 required by YOLOv5, but version 0.1.12 is currently installed\n",
            "\u001b[34m\u001b[1mtrain: \u001b[0mScanning '/content/drive/MyDrive/content/train_data/labels/entrain.cache' images and labels... 3000 found, 0 missing, 1 empty, 0 corrupt: 100% 3000/3000 [00:00<?, ?it/s]\n",
            "\u001b[34m\u001b[1mtrain: \u001b[0mCaching images (2.6GB ram): 100% 3000/3000 [00:39<00:00, 76.03it/s] \n",
            "\u001b[34m\u001b[1mval: \u001b[0mScanning '/content/drive/MyDrive/content/train_data/labels/entrain.cache' images and labels... 3000 found, 0 missing, 1 empty, 0 corrupt: 100% 3000/3000 [00:00<?, ?it/s]\n",
            "\u001b[34m\u001b[1mval: \u001b[0mCaching images (2.6GB ram): 100% 3000/3000 [00:37<00:00, 80.52it/s] \n",
            "Plotting labels to runs/train/exp5/labels.jpg... \n",
            "\n",
            "\u001b[34m\u001b[1mAutoAnchor: \u001b[0m4.86 anchors/target, 1.000 Best Possible Recall (BPR). Current anchors are a good fit to dataset ✅\n",
            "Image sizes 640 train, 640 val\n",
            "Using 2 dataloader workers\n",
            "Logging results to \u001b[1mruns/train/exp5\u001b[0m\n",
            "Starting training for 90 epochs...\n",
            "\n",
            "     Epoch   gpu_mem       box       obj       cls    labels  img_size\n",
            "      0/89     7.41G     0.084   0.05015   0.05797       167       640: 100% 94/94 [00:46<00:00,  2.01it/s]\n",
            "               Class     Images     Labels          P          R     mAP@.5 mAP@.5:.95: 100% 47/47 [00:31<00:00,  1.49it/s]\n",
            "                 all       3000      10381      0.415      0.392      0.322      0.135\n",
            "\n",
            "     Epoch   gpu_mem       box       obj       cls    labels  img_size\n",
            "      1/89     10.6G   0.06534   0.04312   0.03195       190       640: 100% 94/94 [00:40<00:00,  2.31it/s]\n",
            "               Class     Images     Labels          P          R     mAP@.5 mAP@.5:.95: 100% 47/47 [00:27<00:00,  1.70it/s]\n",
            "                 all       3000      10379      0.385      0.482      0.393       0.16\n",
            "\n",
            "     Epoch   gpu_mem       box       obj       cls    labels  img_size\n",
            "      2/89     10.6G   0.06012    0.0428   0.02442       175       640: 100% 94/94 [00:40<00:00,  2.35it/s]\n",
            "               Class     Images     Labels          P          R     mAP@.5 mAP@.5:.95: 100% 47/47 [00:26<00:00,  1.79it/s]\n",
            "                 all       3000      10381      0.496      0.433        0.4       0.17\n",
            "\n",
            "     Epoch   gpu_mem       box       obj       cls    labels  img_size\n",
            "      3/89     10.6G   0.05511   0.04545   0.02399       156       640: 100% 94/94 [00:40<00:00,  2.34it/s]\n",
            "               Class     Images     Labels          P          R     mAP@.5 mAP@.5:.95: 100% 47/47 [00:26<00:00,  1.76it/s]\n",
            "                 all       3000      10381      0.505      0.442      0.439      0.204\n",
            "\n",
            "     Epoch   gpu_mem       box       obj       cls    labels  img_size\n",
            "      4/89     10.6G   0.05196   0.04714   0.02135       151       640: 100% 94/94 [00:39<00:00,  2.35it/s]\n",
            "               Class     Images     Labels          P          R     mAP@.5 mAP@.5:.95: 100% 47/47 [00:27<00:00,  1.72it/s]\n",
            "                 all       3000      10381      0.604      0.532      0.557      0.274\n",
            "\n",
            "     Epoch   gpu_mem       box       obj       cls    labels  img_size\n",
            "      5/89     10.6G   0.05033   0.04615   0.01957       155       640: 100% 94/94 [00:40<00:00,  2.34it/s]\n",
            "               Class     Images     Labels          P          R     mAP@.5 mAP@.5:.95: 100% 47/47 [00:25<00:00,  1.86it/s]\n",
            "                 all       3000      10381      0.675      0.563      0.631      0.302\n",
            "\n",
            "     Epoch   gpu_mem       box       obj       cls    labels  img_size\n",
            "      6/89     10.6G   0.04941   0.04406   0.01832       133       640: 100% 94/94 [00:40<00:00,  2.35it/s]\n",
            "               Class     Images     Labels          P          R     mAP@.5 mAP@.5:.95: 100% 47/47 [00:26<00:00,  1.80it/s]\n",
            "                 all       3000      10381      0.687      0.622      0.683      0.345\n",
            "\n",
            "     Epoch   gpu_mem       box       obj       cls    labels  img_size\n",
            "      7/89     10.6G     0.048   0.04464   0.01764       134       640: 100% 94/94 [00:40<00:00,  2.32it/s]\n",
            "               Class     Images     Labels          P          R     mAP@.5 mAP@.5:.95: 100% 47/47 [00:25<00:00,  1.88it/s]\n",
            "                 all       3000      10381      0.727      0.648      0.729      0.377\n",
            "\n",
            "     Epoch   gpu_mem       box       obj       cls    labels  img_size\n",
            "      8/89     10.6G   0.04704   0.04332   0.01641       164       640: 100% 94/94 [00:39<00:00,  2.36it/s]\n",
            "               Class     Images     Labels          P          R     mAP@.5 mAP@.5:.95: 100% 47/47 [00:24<00:00,  1.96it/s]\n",
            "                 all       3000      10381      0.726       0.61       0.69      0.364\n",
            "\n",
            "     Epoch   gpu_mem       box       obj       cls    labels  img_size\n",
            "      9/89     10.6G   0.04625   0.04335   0.01617       163       640: 100% 94/94 [00:39<00:00,  2.36it/s]\n",
            "               Class     Images     Labels          P          R     mAP@.5 mAP@.5:.95: 100% 47/47 [00:25<00:00,  1.86it/s]\n",
            "                 all       3000      10381      0.713      0.649       0.72      0.395\n",
            "\n",
            "     Epoch   gpu_mem       box       obj       cls    labels  img_size\n",
            "     10/89     10.6G   0.04597   0.04337   0.01532       157       640: 100% 94/94 [00:39<00:00,  2.36it/s]\n",
            "               Class     Images     Labels          P          R     mAP@.5 mAP@.5:.95: 100% 47/47 [00:24<00:00,  1.95it/s]\n",
            "                 all       3000      10381       0.75      0.654      0.727        0.4\n",
            "\n",
            "     Epoch   gpu_mem       box       obj       cls    labels  img_size\n",
            "     11/89     10.6G   0.04493   0.04251   0.01443       127       640: 100% 94/94 [00:40<00:00,  2.34it/s]\n",
            "               Class     Images     Labels          P          R     mAP@.5 mAP@.5:.95: 100% 47/47 [00:24<00:00,  1.91it/s]\n",
            "                 all       3000      10381      0.789      0.718      0.803      0.441\n",
            "\n",
            "     Epoch   gpu_mem       box       obj       cls    labels  img_size\n",
            "     12/89     10.6G   0.04498   0.04153   0.01399       147       640: 100% 94/94 [00:40<00:00,  2.35it/s]\n",
            "               Class     Images     Labels          P          R     mAP@.5 mAP@.5:.95: 100% 47/47 [00:24<00:00,  1.91it/s]\n",
            "                 all       3000      10381      0.783      0.724      0.807      0.461\n",
            "\n",
            "     Epoch   gpu_mem       box       obj       cls    labels  img_size\n",
            "     13/89     10.6G   0.04448   0.04151   0.01354       157       640: 100% 94/94 [00:39<00:00,  2.39it/s]\n",
            "               Class     Images     Labels          P          R     mAP@.5 mAP@.5:.95: 100% 47/47 [00:24<00:00,  1.91it/s]\n",
            "                 all       3000      10381      0.794      0.702      0.794      0.441\n",
            "\n",
            "     Epoch   gpu_mem       box       obj       cls    labels  img_size\n",
            "     14/89     10.6G   0.04404   0.04114   0.01265       132       640: 100% 94/94 [00:40<00:00,  2.34it/s]\n",
            "               Class     Images     Labels          P          R     mAP@.5 mAP@.5:.95: 100% 47/47 [00:24<00:00,  1.93it/s]\n",
            "                 all       3000      10381      0.774      0.714      0.794      0.448\n",
            "\n",
            "     Epoch   gpu_mem       box       obj       cls    labels  img_size\n",
            "     15/89     10.6G   0.04284   0.03978   0.01312       171       640: 100% 94/94 [00:39<00:00,  2.36it/s]\n",
            "               Class     Images     Labels          P          R     mAP@.5 mAP@.5:.95: 100% 47/47 [00:24<00:00,  1.93it/s]\n",
            "                 all       3000      10381      0.813      0.751       0.84      0.492\n",
            "\n",
            "     Epoch   gpu_mem       box       obj       cls    labels  img_size\n",
            "     16/89     10.6G   0.04293   0.04073   0.01238       142       640: 100% 94/94 [00:40<00:00,  2.33it/s]\n",
            "               Class     Images     Labels          P          R     mAP@.5 mAP@.5:.95: 100% 47/47 [00:24<00:00,  1.93it/s]\n",
            "                 all       3000      10381      0.822       0.77      0.855      0.499\n",
            "\n",
            "     Epoch   gpu_mem       box       obj       cls    labels  img_size\n",
            "     17/89     10.6G   0.04245   0.04004   0.01168       118       640: 100% 94/94 [00:40<00:00,  2.35it/s]\n",
            "               Class     Images     Labels          P          R     mAP@.5 mAP@.5:.95: 100% 47/47 [00:24<00:00,  1.93it/s]\n",
            "                 all       3000      10381      0.822      0.792      0.869       0.51\n",
            "\n",
            "     Epoch   gpu_mem       box       obj       cls    labels  img_size\n",
            "     18/89     10.6G   0.04232   0.04045   0.01185       198       640: 100% 94/94 [00:40<00:00,  2.34it/s]\n",
            "               Class     Images     Labels          P          R     mAP@.5 mAP@.5:.95: 100% 47/47 [00:24<00:00,  1.90it/s]\n",
            "                 all       3000      10381      0.824      0.771      0.854      0.491\n",
            "\n",
            "     Epoch   gpu_mem       box       obj       cls    labels  img_size\n",
            "     19/89     10.6G   0.04181   0.04007   0.01129       104       640: 100% 94/94 [00:39<00:00,  2.36it/s]\n",
            "               Class     Images     Labels          P          R     mAP@.5 mAP@.5:.95: 100% 47/47 [00:24<00:00,  1.91it/s]\n",
            "                 all       3000      10381      0.841      0.796      0.882      0.523\n",
            "\n",
            "     Epoch   gpu_mem       box       obj       cls    labels  img_size\n",
            "     20/89     10.6G   0.04145   0.03935   0.01157       187       640: 100% 94/94 [00:39<00:00,  2.35it/s]\n",
            "               Class     Images     Labels          P          R     mAP@.5 mAP@.5:.95: 100% 47/47 [00:24<00:00,  1.94it/s]\n",
            "                 all       3000      10381      0.849      0.798       0.88      0.523\n",
            "\n",
            "     Epoch   gpu_mem       box       obj       cls    labels  img_size\n",
            "     21/89     10.6G   0.04114    0.0396   0.01057       149       640: 100% 94/94 [00:39<00:00,  2.35it/s]\n",
            "               Class     Images     Labels          P          R     mAP@.5 mAP@.5:.95: 100% 47/47 [00:24<00:00,  1.93it/s]\n",
            "                 all       3000      10381      0.853      0.809      0.896      0.538\n",
            "\n",
            "     Epoch   gpu_mem       box       obj       cls    labels  img_size\n",
            "     22/89     10.6G   0.04099   0.03891   0.01037       162       640: 100% 94/94 [00:40<00:00,  2.34it/s]\n",
            "               Class     Images     Labels          P          R     mAP@.5 mAP@.5:.95: 100% 47/47 [00:24<00:00,  1.96it/s]\n",
            "                 all       3000      10381      0.854      0.802      0.889      0.537\n",
            "\n",
            "     Epoch   gpu_mem       box       obj       cls    labels  img_size\n",
            "     23/89     10.6G   0.04016   0.03773  0.009917       223       640: 100% 94/94 [00:40<00:00,  2.34it/s]\n",
            "               Class     Images     Labels          P          R     mAP@.5 mAP@.5:.95: 100% 47/47 [00:24<00:00,  1.90it/s]\n",
            "                 all       3000      10381      0.854      0.811      0.895      0.544\n",
            "\n",
            "     Epoch   gpu_mem       box       obj       cls    labels  img_size\n",
            "     24/89     10.6G   0.04044   0.03861  0.009928       151       640: 100% 94/94 [00:39<00:00,  2.35it/s]\n",
            "               Class     Images     Labels          P          R     mAP@.5 mAP@.5:.95: 100% 47/47 [00:24<00:00,  1.94it/s]\n",
            "                 all       3000      10381      0.866      0.811      0.901      0.548\n",
            "\n",
            "     Epoch   gpu_mem       box       obj       cls    labels  img_size\n",
            "     25/89     10.6G   0.04003   0.03803   0.01014       178       640: 100% 94/94 [00:40<00:00,  2.34it/s]\n",
            "               Class     Images     Labels          P          R     mAP@.5 mAP@.5:.95: 100% 47/47 [00:24<00:00,  1.89it/s]\n",
            "                 all       3000      10381      0.872      0.831      0.909       0.56\n",
            "\n",
            "     Epoch   gpu_mem       box       obj       cls    labels  img_size\n",
            "     26/89     10.6G   0.03981   0.03853  0.009656       164       640: 100% 94/94 [00:39<00:00,  2.36it/s]\n",
            "               Class     Images     Labels          P          R     mAP@.5 mAP@.5:.95: 100% 47/47 [00:24<00:00,  1.94it/s]\n",
            "                 all       3000      10381      0.882      0.839      0.921      0.582\n",
            "\n",
            "     Epoch   gpu_mem       box       obj       cls    labels  img_size\n",
            "     27/89     10.6G    0.0392   0.03762   0.00963       180       640: 100% 94/94 [00:39<00:00,  2.36it/s]\n",
            "               Class     Images     Labels          P          R     mAP@.5 mAP@.5:.95: 100% 47/47 [00:24<00:00,  1.93it/s]\n",
            "                 all       3000      10381      0.856      0.832      0.911      0.564\n",
            "\n",
            "     Epoch   gpu_mem       box       obj       cls    labels  img_size\n",
            "     28/89     10.6G   0.03948   0.03761  0.009296       188       640: 100% 94/94 [00:39<00:00,  2.36it/s]\n",
            "               Class     Images     Labels          P          R     mAP@.5 mAP@.5:.95: 100% 47/47 [00:23<00:00,  1.96it/s]\n",
            "                 all       3000      10381      0.878      0.846      0.923      0.583\n",
            "\n",
            "     Epoch   gpu_mem       box       obj       cls    labels  img_size\n",
            "     29/89     10.6G   0.03868   0.03672  0.009011       133       640: 100% 94/94 [00:40<00:00,  2.35it/s]\n",
            "               Class     Images     Labels          P          R     mAP@.5 mAP@.5:.95: 100% 47/47 [00:24<00:00,  1.94it/s]\n",
            "                 all       3000      10381      0.887      0.862       0.93      0.586\n",
            "\n",
            "     Epoch   gpu_mem       box       obj       cls    labels  img_size\n",
            "     30/89     10.6G   0.03893    0.0376  0.009112       184       640: 100% 94/94 [00:40<00:00,  2.33it/s]\n",
            "               Class     Images     Labels          P          R     mAP@.5 mAP@.5:.95: 100% 47/47 [00:24<00:00,  1.94it/s]\n",
            "                 all       3000      10381      0.896      0.864      0.936      0.593\n",
            "\n",
            "     Epoch   gpu_mem       box       obj       cls    labels  img_size\n",
            "     31/89     10.6G    0.0381   0.03631  0.008853       166       640: 100% 94/94 [00:40<00:00,  2.34it/s]\n",
            "               Class     Images     Labels          P          R     mAP@.5 mAP@.5:.95: 100% 47/47 [00:24<00:00,  1.93it/s]\n",
            "                 all       3000      10381      0.911      0.871      0.944      0.598\n",
            "\n",
            "     Epoch   gpu_mem       box       obj       cls    labels  img_size\n",
            "     32/89     10.6G   0.03779   0.03569  0.008252       146       640: 100% 94/94 [00:40<00:00,  2.33it/s]\n",
            "               Class     Images     Labels          P          R     mAP@.5 mAP@.5:.95: 100% 47/47 [00:24<00:00,  1.89it/s]\n",
            "                 all       3000      10381        0.9      0.872       0.94      0.604\n",
            "\n",
            "     Epoch   gpu_mem       box       obj       cls    labels  img_size\n",
            "     33/89     10.6G   0.03801   0.03691  0.008258       149       640: 100% 94/94 [00:39<00:00,  2.35it/s]\n",
            "               Class     Images     Labels          P          R     mAP@.5 mAP@.5:.95: 100% 47/47 [00:24<00:00,  1.92it/s]\n",
            "                 all       3000      10381      0.912      0.875      0.952      0.614\n",
            "\n",
            "     Epoch   gpu_mem       box       obj       cls    labels  img_size\n",
            "     34/89     10.6G   0.03793   0.03573  0.008236       120       640: 100% 94/94 [00:39<00:00,  2.38it/s]\n",
            "               Class     Images     Labels          P          R     mAP@.5 mAP@.5:.95: 100% 47/47 [00:24<00:00,  1.94it/s]\n",
            "                 all       3000      10381       0.91      0.887      0.953      0.625\n",
            "\n",
            "     Epoch   gpu_mem       box       obj       cls    labels  img_size\n",
            "     35/89     10.6G   0.03763   0.03597  0.008176       159       640: 100% 94/94 [00:39<00:00,  2.36it/s]\n",
            "               Class     Images     Labels          P          R     mAP@.5 mAP@.5:.95: 100% 47/47 [00:24<00:00,  1.93it/s]\n",
            "                 all       3000      10381        0.9      0.889       0.95      0.612\n",
            "\n",
            "     Epoch   gpu_mem       box       obj       cls    labels  img_size\n",
            "     36/89     10.6G   0.03729   0.03577  0.008077       188       640: 100% 94/94 [00:39<00:00,  2.36it/s]\n",
            "               Class     Images     Labels          P          R     mAP@.5 mAP@.5:.95: 100% 47/47 [00:24<00:00,  1.92it/s]\n",
            "                 all       3000      10381      0.912      0.894      0.954       0.62\n",
            "\n",
            "     Epoch   gpu_mem       box       obj       cls    labels  img_size\n",
            "     37/89     10.6G   0.03702   0.03653  0.008102       152       640: 100% 94/94 [00:40<00:00,  2.34it/s]\n",
            "               Class     Images     Labels          P          R     mAP@.5 mAP@.5:.95: 100% 47/47 [00:24<00:00,  1.94it/s]\n",
            "                 all       3000      10381      0.916      0.895      0.959      0.637\n",
            "\n",
            "     Epoch   gpu_mem       box       obj       cls    labels  img_size\n",
            "     38/89     10.6G   0.03673   0.03493  0.007542       121       640: 100% 94/94 [00:40<00:00,  2.35it/s]\n",
            "               Class     Images     Labels          P          R     mAP@.5 mAP@.5:.95: 100% 47/47 [00:24<00:00,  1.92it/s]\n",
            "                 all       3000      10381      0.921      0.894      0.958      0.631\n",
            "\n",
            "     Epoch   gpu_mem       box       obj       cls    labels  img_size\n",
            "     39/89     10.6G   0.03661   0.03562  0.007541       133       640: 100% 94/94 [00:40<00:00,  2.35it/s]\n",
            "               Class     Images     Labels          P          R     mAP@.5 mAP@.5:.95: 100% 47/47 [00:24<00:00,  1.94it/s]\n",
            "                 all       3000      10381      0.918      0.888      0.957       0.63\n",
            "\n",
            "     Epoch   gpu_mem       box       obj       cls    labels  img_size\n",
            "     40/89     10.6G   0.03609   0.03448  0.007377       133       640: 100% 94/94 [00:40<00:00,  2.35it/s]\n",
            "               Class     Images     Labels          P          R     mAP@.5 mAP@.5:.95: 100% 47/47 [00:24<00:00,  1.92it/s]\n",
            "                 all       3000      10381      0.924      0.908      0.965      0.642\n",
            "\n",
            "     Epoch   gpu_mem       box       obj       cls    labels  img_size\n",
            "     41/89     10.6G   0.03602   0.03485  0.007124       195       640: 100% 94/94 [00:40<00:00,  2.33it/s]\n",
            "               Class     Images     Labels          P          R     mAP@.5 mAP@.5:.95: 100% 47/47 [00:24<00:00,  1.94it/s]\n",
            "                 all       3000      10381       0.92      0.907      0.965      0.648\n",
            "\n",
            "     Epoch   gpu_mem       box       obj       cls    labels  img_size\n",
            "     42/89     10.6G   0.03591   0.03458  0.007437       174       640: 100% 94/94 [00:39<00:00,  2.36it/s]\n",
            "               Class     Images     Labels          P          R     mAP@.5 mAP@.5:.95: 100% 47/47 [00:23<00:00,  1.96it/s]\n",
            "                 all       3000      10381      0.924      0.911      0.966      0.647\n",
            "\n",
            "     Epoch   gpu_mem       box       obj       cls    labels  img_size\n",
            "     43/89     10.6G   0.03576   0.03448  0.007091       156       640: 100% 94/94 [00:40<00:00,  2.34it/s]\n",
            "               Class     Images     Labels          P          R     mAP@.5 mAP@.5:.95: 100% 47/47 [00:24<00:00,  1.91it/s]\n",
            "                 all       3000      10381      0.934      0.915       0.97      0.657\n",
            "\n",
            "     Epoch   gpu_mem       box       obj       cls    labels  img_size\n",
            "     44/89     10.6G    0.0358   0.03429  0.007174       185       640: 100% 94/94 [00:40<00:00,  2.33it/s]\n",
            "               Class     Images     Labels          P          R     mAP@.5 mAP@.5:.95: 100% 47/47 [00:24<00:00,  1.92it/s]\n",
            "                 all       3000      10381       0.94      0.917      0.973      0.656\n",
            "\n",
            "     Epoch   gpu_mem       box       obj       cls    labels  img_size\n",
            "     45/89     10.6G   0.03502   0.03395  0.006935       207       640: 100% 94/94 [00:39<00:00,  2.36it/s]\n",
            "               Class     Images     Labels          P          R     mAP@.5 mAP@.5:.95: 100% 47/47 [00:24<00:00,  1.90it/s]\n",
            "                 all       3000      10381      0.933      0.923      0.972      0.664\n",
            "\n",
            "     Epoch   gpu_mem       box       obj       cls    labels  img_size\n",
            "     46/89     10.6G   0.03541   0.03424  0.007134       183       640: 100% 94/94 [00:40<00:00,  2.35it/s]\n",
            "               Class     Images     Labels          P          R     mAP@.5 mAP@.5:.95: 100% 47/47 [00:24<00:00,  1.92it/s]\n",
            "                 all       3000      10381      0.933      0.919      0.972      0.664\n",
            "\n",
            "     Epoch   gpu_mem       box       obj       cls    labels  img_size\n",
            "     47/89     10.6G   0.03533   0.03376   0.00695       179       640: 100% 94/94 [00:39<00:00,  2.36it/s]\n",
            "               Class     Images     Labels          P          R     mAP@.5 mAP@.5:.95: 100% 47/47 [00:24<00:00,  1.90it/s]\n",
            "                 all       3000      10381      0.942      0.924      0.975      0.668\n",
            "\n",
            "     Epoch   gpu_mem       box       obj       cls    labels  img_size\n",
            "     48/89     10.6G   0.03505   0.03457  0.006706       170       640: 100% 94/94 [00:39<00:00,  2.35it/s]\n",
            "               Class     Images     Labels          P          R     mAP@.5 mAP@.5:.95: 100% 47/47 [00:24<00:00,  1.94it/s]\n",
            "                 all       3000      10381       0.94      0.939      0.977      0.676\n",
            "\n",
            "     Epoch   gpu_mem       box       obj       cls    labels  img_size\n",
            "     49/89     10.6G    0.0345   0.03317  0.006736       162       640: 100% 94/94 [00:39<00:00,  2.36it/s]\n",
            "               Class     Images     Labels          P          R     mAP@.5 mAP@.5:.95: 100% 47/47 [00:24<00:00,  1.95it/s]\n",
            "                 all       3000      10381      0.938      0.928      0.974      0.667\n",
            "\n",
            "     Epoch   gpu_mem       box       obj       cls    labels  img_size\n",
            "     50/89     10.6G   0.03457   0.03307  0.006577       142       640: 100% 94/94 [00:40<00:00,  2.33it/s]\n",
            "               Class     Images     Labels          P          R     mAP@.5 mAP@.5:.95: 100% 47/47 [00:24<00:00,  1.93it/s]\n",
            "                 all       3000      10381      0.941      0.931      0.976      0.682\n",
            "\n",
            "     Epoch   gpu_mem       box       obj       cls    labels  img_size\n",
            "     51/89     10.6G   0.03399   0.03296  0.006199       151       640: 100% 94/94 [00:39<00:00,  2.36it/s]\n",
            "               Class     Images     Labels          P          R     mAP@.5 mAP@.5:.95: 100% 47/47 [00:24<00:00,  1.91it/s]\n",
            "                 all       3000      10381      0.952      0.938      0.981      0.686\n",
            "\n",
            "     Epoch   gpu_mem       box       obj       cls    labels  img_size\n",
            "     52/89     10.6G   0.03398   0.03279  0.006287       126       640: 100% 94/94 [00:40<00:00,  2.33it/s]\n",
            "               Class     Images     Labels          P          R     mAP@.5 mAP@.5:.95: 100% 47/47 [00:24<00:00,  1.95it/s]\n",
            "                 all       3000      10381      0.946      0.943      0.981      0.687\n",
            "\n",
            "     Epoch   gpu_mem       box       obj       cls    labels  img_size\n",
            "     53/89     10.6G   0.03361   0.03251  0.005995       185       640: 100% 94/94 [00:39<00:00,  2.35it/s]\n",
            "               Class     Images     Labels          P          R     mAP@.5 mAP@.5:.95: 100% 47/47 [00:24<00:00,  1.92it/s]\n",
            "                 all       3000      10381      0.951      0.941      0.981      0.692\n",
            "\n",
            "     Epoch   gpu_mem       box       obj       cls    labels  img_size\n",
            "     54/89     10.6G   0.03319   0.03191   0.00632       158       640: 100% 94/94 [00:40<00:00,  2.34it/s]\n",
            "               Class     Images     Labels          P          R     mAP@.5 mAP@.5:.95: 100% 47/47 [00:24<00:00,  1.95it/s]\n",
            "                 all       3000      10381      0.947      0.946      0.981      0.692\n",
            "\n",
            "     Epoch   gpu_mem       box       obj       cls    labels  img_size\n",
            "     55/89     10.6G   0.03336   0.03256  0.006281       155       640: 100% 94/94 [00:40<00:00,  2.35it/s]\n",
            "               Class     Images     Labels          P          R     mAP@.5 mAP@.5:.95: 100% 47/47 [00:24<00:00,  1.94it/s]\n",
            "                 all       3000      10381      0.949      0.941      0.982      0.697\n",
            "\n",
            "     Epoch   gpu_mem       box       obj       cls    labels  img_size\n",
            "     56/89     10.6G   0.03325   0.03216  0.006041       127       640: 100% 94/94 [00:39<00:00,  2.37it/s]\n",
            "               Class     Images     Labels          P          R     mAP@.5 mAP@.5:.95: 100% 47/47 [00:24<00:00,  1.89it/s]\n",
            "                 all       3000      10381      0.959      0.946      0.983      0.701\n",
            "\n",
            "     Epoch   gpu_mem       box       obj       cls    labels  img_size\n",
            "     57/89     10.6G   0.03287   0.03165  0.005962       154       640: 100% 94/94 [00:40<00:00,  2.35it/s]\n",
            "               Class     Images     Labels          P          R     mAP@.5 mAP@.5:.95: 100% 47/47 [00:24<00:00,  1.94it/s]\n",
            "                 all       3000      10381      0.961      0.951      0.986      0.707\n",
            "\n",
            "     Epoch   gpu_mem       box       obj       cls    labels  img_size\n",
            "     58/89     10.6G   0.03307   0.03138  0.005918       212       640: 100% 94/94 [00:42<00:00,  2.22it/s]\n",
            "               Class     Images     Labels          P          R     mAP@.5 mAP@.5:.95: 100% 47/47 [00:26<00:00,  1.77it/s]\n",
            "                 all       3000      10381      0.955      0.951      0.984      0.707\n",
            "\n",
            "     Epoch   gpu_mem       box       obj       cls    labels  img_size\n",
            "     59/89     10.6G   0.03287   0.03191  0.005962       147       640: 100% 94/94 [00:40<00:00,  2.32it/s]\n",
            "               Class     Images     Labels          P          R     mAP@.5 mAP@.5:.95: 100% 47/47 [00:24<00:00,  1.93it/s]\n",
            "                 all       3000      10381      0.957      0.952      0.986      0.713\n",
            "\n",
            "     Epoch   gpu_mem       box       obj       cls    labels  img_size\n",
            "     60/89     10.6G    0.0325   0.03139  0.005561       158       640: 100% 94/94 [00:39<00:00,  2.36it/s]\n",
            "               Class     Images     Labels          P          R     mAP@.5 mAP@.5:.95: 100% 47/47 [00:24<00:00,  1.92it/s]\n",
            "                 all       3000      10381       0.96       0.95      0.986      0.711\n",
            "\n",
            "     Epoch   gpu_mem       box       obj       cls    labels  img_size\n",
            "     61/89     10.6G   0.03263   0.03256  0.005622       169       640: 100% 94/94 [00:40<00:00,  2.34it/s]\n",
            "               Class     Images     Labels          P          R     mAP@.5 mAP@.5:.95: 100% 47/47 [00:24<00:00,  1.91it/s]\n",
            "                 all       3000      10381      0.961      0.946      0.986      0.715\n",
            "\n",
            "     Epoch   gpu_mem       box       obj       cls    labels  img_size\n",
            "     62/89     10.6G   0.03218   0.03118  0.005515       179       640: 100% 94/94 [00:39<00:00,  2.37it/s]\n",
            "               Class     Images     Labels          P          R     mAP@.5 mAP@.5:.95: 100% 47/47 [00:24<00:00,  1.93it/s]\n",
            "                 all       3000      10381      0.965      0.962      0.988      0.719\n",
            "\n",
            "     Epoch   gpu_mem       box       obj       cls    labels  img_size\n",
            "     63/89     10.6G   0.03193    0.0305  0.005412       215       640: 100% 94/94 [00:40<00:00,  2.30it/s]\n",
            "               Class     Images     Labels          P          R     mAP@.5 mAP@.5:.95: 100% 47/47 [00:24<00:00,  1.94it/s]\n",
            "                 all       3000      10381      0.964      0.959      0.987      0.722\n",
            "\n",
            "     Epoch   gpu_mem       box       obj       cls    labels  img_size\n",
            "     64/89     10.6G   0.03134   0.03025  0.005274       189       640: 100% 94/94 [00:40<00:00,  2.33it/s]\n",
            "               Class     Images     Labels          P          R     mAP@.5 mAP@.5:.95: 100% 47/47 [00:24<00:00,  1.94it/s]\n",
            "                 all       3000      10381      0.968      0.963      0.989      0.725\n",
            "\n",
            "     Epoch   gpu_mem       box       obj       cls    labels  img_size\n",
            "     65/89     10.6G   0.03184   0.03076  0.005567       129       640: 100% 94/94 [00:40<00:00,  2.29it/s]\n",
            "               Class     Images     Labels          P          R     mAP@.5 mAP@.5:.95: 100% 47/47 [00:24<00:00,  1.92it/s]\n",
            "                 all       3000      10381      0.969      0.962       0.99      0.732\n",
            "\n",
            "     Epoch   gpu_mem       box       obj       cls    labels  img_size\n",
            "     66/89     10.6G   0.03154   0.03077  0.005407       173       640: 100% 94/94 [00:39<00:00,  2.36it/s]\n",
            "               Class     Images     Labels          P          R     mAP@.5 mAP@.5:.95: 100% 47/47 [00:24<00:00,  1.92it/s]\n",
            "                 all       3000      10381      0.971      0.963       0.99      0.729\n",
            "\n",
            "     Epoch   gpu_mem       box       obj       cls    labels  img_size\n",
            "     67/89     10.6G   0.03138   0.02991  0.005551       130       640: 100% 94/94 [00:40<00:00,  2.33it/s]\n",
            "               Class     Images     Labels          P          R     mAP@.5 mAP@.5:.95: 100% 47/47 [00:24<00:00,  1.91it/s]\n",
            "                 all       3000      10381       0.97       0.96      0.989       0.73\n",
            "\n",
            "     Epoch   gpu_mem       box       obj       cls    labels  img_size\n",
            "     68/89     10.6G   0.03151   0.03026  0.005517       140       640: 100% 94/94 [00:40<00:00,  2.34it/s]\n",
            "               Class     Images     Labels          P          R     mAP@.5 mAP@.5:.95: 100% 47/47 [00:24<00:00,  1.93it/s]\n",
            "                 all       3000      10381      0.971      0.965      0.989      0.733\n",
            "\n",
            "     Epoch   gpu_mem       box       obj       cls    labels  img_size\n",
            "     69/89     10.6G   0.03085   0.03057  0.005246       173       640: 100% 94/94 [00:40<00:00,  2.29it/s]\n",
            "               Class     Images     Labels          P          R     mAP@.5 mAP@.5:.95: 100% 47/47 [00:24<00:00,  1.91it/s]\n",
            "                 all       3000      10381      0.971      0.965       0.99       0.74\n",
            "\n",
            "     Epoch   gpu_mem       box       obj       cls    labels  img_size\n",
            "     70/89     10.6G   0.03086   0.03001  0.005273       196       640: 100% 94/94 [00:40<00:00,  2.30it/s]\n",
            "               Class     Images     Labels          P          R     mAP@.5 mAP@.5:.95: 100% 47/47 [00:24<00:00,  1.91it/s]\n",
            "                 all       3000      10381      0.971      0.966       0.99      0.735\n",
            "\n",
            "     Epoch   gpu_mem       box       obj       cls    labels  img_size\n",
            "     71/89     10.6G   0.03098   0.03043  0.004929       163       640: 100% 94/94 [00:40<00:00,  2.34it/s]\n",
            "               Class     Images     Labels          P          R     mAP@.5 mAP@.5:.95: 100% 47/47 [00:24<00:00,  1.91it/s]\n",
            "                 all       3000      10381      0.977      0.969      0.991      0.745\n",
            "\n",
            "     Epoch   gpu_mem       box       obj       cls    labels  img_size\n",
            "     72/89     10.6G   0.03049   0.02999  0.005114       178       640: 100% 94/94 [00:40<00:00,  2.34it/s]\n",
            "               Class     Images     Labels          P          R     mAP@.5 mAP@.5:.95: 100% 47/47 [00:24<00:00,  1.92it/s]\n",
            "                 all       3000      10381      0.973      0.968      0.991      0.749\n",
            "\n",
            "     Epoch   gpu_mem       box       obj       cls    labels  img_size\n",
            "     73/89     10.6G   0.03022   0.02892   0.00501       186       640: 100% 94/94 [00:40<00:00,  2.34it/s]\n",
            "               Class     Images     Labels          P          R     mAP@.5 mAP@.5:.95: 100% 47/47 [00:25<00:00,  1.88it/s]\n",
            "                 all       3000      10381      0.979      0.969      0.991      0.749\n",
            "\n",
            "     Epoch   gpu_mem       box       obj       cls    labels  img_size\n",
            "     74/89     10.6G   0.03017   0.02959  0.005156       190       640: 100% 94/94 [00:40<00:00,  2.35it/s]\n",
            "               Class     Images     Labels          P          R     mAP@.5 mAP@.5:.95: 100% 47/47 [00:24<00:00,  1.92it/s]\n",
            "                 all       3000      10381       0.98      0.971      0.991      0.753\n",
            "\n",
            "     Epoch   gpu_mem       box       obj       cls    labels  img_size\n",
            "     75/89     10.6G   0.02977   0.02904  0.004689       181       640: 100% 94/94 [00:39<00:00,  2.37it/s]\n",
            "               Class     Images     Labels          P          R     mAP@.5 mAP@.5:.95: 100% 47/47 [00:25<00:00,  1.88it/s]\n",
            "                 all       3000      10381      0.978      0.972      0.992      0.752\n",
            "\n",
            "     Epoch   gpu_mem       box       obj       cls    labels  img_size\n",
            "     76/89     10.6G   0.02978   0.02868  0.005025       178       640: 100% 94/94 [00:40<00:00,  2.35it/s]\n",
            "               Class     Images     Labels          P          R     mAP@.5 mAP@.5:.95: 100% 47/47 [00:24<00:00,  1.91it/s]\n",
            "                 all       3000      10381      0.977      0.972      0.992      0.758\n",
            "\n",
            "     Epoch   gpu_mem       box       obj       cls    labels  img_size\n",
            "     77/89     10.6G   0.02964   0.02899  0.004845       176       640: 100% 94/94 [00:39<00:00,  2.36it/s]\n",
            "               Class     Images     Labels          P          R     mAP@.5 mAP@.5:.95: 100% 47/47 [00:24<00:00,  1.90it/s]\n",
            "                 all       3000      10381      0.978      0.974      0.992      0.761\n",
            "\n",
            "     Epoch   gpu_mem       box       obj       cls    labels  img_size\n",
            "     78/89     10.6G   0.02927   0.02919  0.004479       175       640: 100% 94/94 [00:39<00:00,  2.36it/s]\n",
            "               Class     Images     Labels          P          R     mAP@.5 mAP@.5:.95: 100% 47/47 [00:24<00:00,  1.91it/s]\n",
            "                 all       3000      10381       0.98      0.975      0.992      0.765\n",
            "\n",
            "     Epoch   gpu_mem       box       obj       cls    labels  img_size\n",
            "     79/89     10.6G   0.02947   0.02853  0.004975       184       640: 100% 94/94 [00:39<00:00,  2.35it/s]\n",
            "               Class     Images     Labels          P          R     mAP@.5 mAP@.5:.95: 100% 47/47 [00:24<00:00,  1.89it/s]\n",
            "                 all       3000      10381       0.98      0.976      0.992      0.763\n",
            "\n",
            "     Epoch   gpu_mem       box       obj       cls    labels  img_size\n",
            "     80/89     10.6G   0.02928   0.02879  0.004554       192       640: 100% 94/94 [00:39<00:00,  2.36it/s]\n",
            "               Class     Images     Labels          P          R     mAP@.5 mAP@.5:.95: 100% 47/47 [00:24<00:00,  1.92it/s]\n",
            "                 all       3000      10381      0.979      0.978      0.992      0.765\n",
            "\n",
            "     Epoch   gpu_mem       box       obj       cls    labels  img_size\n",
            "     81/89     10.6G   0.02899   0.02902  0.004603       133       640: 100% 94/94 [00:40<00:00,  2.34it/s]\n",
            "               Class     Images     Labels          P          R     mAP@.5 mAP@.5:.95: 100% 47/47 [00:24<00:00,  1.90it/s]\n",
            "                 all       3000      10381       0.98      0.979      0.992       0.77\n",
            "\n",
            "     Epoch   gpu_mem       box       obj       cls    labels  img_size\n",
            "     82/89     10.6G   0.02901   0.02845  0.004795       173       640: 100% 94/94 [00:40<00:00,  2.33it/s]\n",
            "               Class     Images     Labels          P          R     mAP@.5 mAP@.5:.95: 100% 47/47 [00:24<00:00,  1.89it/s]\n",
            "                 all       3000      10381       0.98       0.98      0.993      0.773\n",
            "\n",
            "     Epoch   gpu_mem       box       obj       cls    labels  img_size\n",
            "     83/89     10.6G   0.02897   0.02805  0.004676       110       640: 100% 94/94 [00:40<00:00,  2.31it/s]\n",
            "               Class     Images     Labels          P          R     mAP@.5 mAP@.5:.95: 100% 47/47 [00:24<00:00,  1.91it/s]\n",
            "                 all       3000      10381      0.981      0.975      0.992      0.771\n",
            "\n",
            "     Epoch   gpu_mem       box       obj       cls    labels  img_size\n",
            "     84/89     10.6G   0.02873   0.02714  0.004686       185       640: 100% 94/94 [00:40<00:00,  2.32it/s]\n",
            "               Class     Images     Labels          P          R     mAP@.5 mAP@.5:.95: 100% 47/47 [00:24<00:00,  1.92it/s]\n",
            "                 all       3000      10381      0.983      0.977      0.993      0.774\n",
            "\n",
            "     Epoch   gpu_mem       box       obj       cls    labels  img_size\n",
            "     85/89     10.6G   0.02857   0.02787  0.004416       133       640: 100% 94/94 [00:40<00:00,  2.33it/s]\n",
            "               Class     Images     Labels          P          R     mAP@.5 mAP@.5:.95: 100% 47/47 [00:24<00:00,  1.92it/s]\n",
            "                 all       3000      10381      0.982      0.977      0.993      0.776\n",
            "\n",
            "     Epoch   gpu_mem       box       obj       cls    labels  img_size\n",
            "     86/89     10.6G   0.02881   0.02768  0.004697       109       640: 100% 94/94 [00:40<00:00,  2.29it/s]\n",
            "               Class     Images     Labels          P          R     mAP@.5 mAP@.5:.95: 100% 47/47 [00:24<00:00,  1.91it/s]\n",
            "                 all       3000      10381      0.983       0.98      0.993      0.778\n",
            "\n",
            "     Epoch   gpu_mem       box       obj       cls    labels  img_size\n",
            "     87/89     10.6G   0.02802   0.02776   0.00429       185       640: 100% 94/94 [00:40<00:00,  2.32it/s]\n",
            "               Class     Images     Labels          P          R     mAP@.5 mAP@.5:.95: 100% 47/47 [00:24<00:00,  1.92it/s]\n",
            "                 all       3000      10381      0.984      0.978      0.993       0.78\n",
            "\n",
            "     Epoch   gpu_mem       box       obj       cls    labels  img_size\n",
            "     88/89     10.6G   0.02811   0.02759  0.004501       167       640: 100% 94/94 [00:40<00:00,  2.30it/s]\n",
            "               Class     Images     Labels          P          R     mAP@.5 mAP@.5:.95: 100% 47/47 [00:24<00:00,  1.90it/s]\n",
            "                 all       3000      10381      0.983      0.978      0.993       0.78\n",
            "\n",
            "     Epoch   gpu_mem       box       obj       cls    labels  img_size\n",
            "     89/89     10.6G    0.0281   0.02713    0.0044       166       640: 100% 94/94 [00:40<00:00,  2.32it/s]\n",
            "               Class     Images     Labels          P          R     mAP@.5 mAP@.5:.95: 100% 47/47 [00:24<00:00,  1.89it/s]\n",
            "                 all       3000      10381      0.984       0.98      0.993      0.784\n",
            "\n",
            "90 epochs completed in 1.644 hours.\n",
            "Optimizer stripped from runs/train/exp5/weights/last.pt, 14.4MB\n",
            "Optimizer stripped from runs/train/exp5/weights/best.pt, 14.4MB\n",
            "\n",
            "Validating runs/train/exp5/weights/best.pt...\n",
            "Fusing layers... \n",
            "Model summary: 213 layers, 7042489 parameters, 0 gradients, 15.9 GFLOPs\n",
            "               Class     Images     Labels          P          R     mAP@.5 mAP@.5:.95:   4% 2/47 [00:02<00:57,  1.29s/it]^C\n"
          ]
        }
      ],
      "source": [
        "# Train YOLOv5s on COCO128 for 3 epochs\n",
        "!python train.py --img 614 --batch 32 --epochs 90 --data coco128.yaml --weights yolov5s.pt --cache"
      ]
    },
    {
      "cell_type": "code",
      "execution_count": null,
      "metadata": {
        "id": "GiEdI9quirp2"
      },
      "outputs": [],
      "source": [
        "import shutil\n",
        "shutil.move('/content/yolov5/runs/train/exp5/weights', '/content/drive/MyDrive/weghit/')"
      ]
    },
    {
      "cell_type": "code",
      "execution_count": null,
      "metadata": {
        "id": "QNdFWDWGqeDx"
      },
      "outputs": [],
      "source": [
        "import os\n",
        "import glob\n",
        "\n",
        "anotaion = glob.glob('/content/content/train_data/labels/val/*')\n",
        "train  = os.listdir('/content/content/train_data/labels/train')\n",
        "import shutil\n",
        "for i in anotaion:\n",
        "  file  = i.split('/')[-1]\n",
        "  if file not in train:\n",
        "    shutil.move(i, '/content/content/train_data/labels/new val')"
      ]
    },
    {
      "cell_type": "code",
      "execution_count": null,
      "metadata": {
        "id": "NW2-GpWmr7ff"
      },
      "outputs": [],
      "source": [
        "import cv2"
      ]
    },
    {
      "cell_type": "code",
      "execution_count": null,
      "metadata": {
        "id": "sc2MVRGJrKTl"
      },
      "outputs": [],
      "source": [
        "import pickle\n",
        "infile = open('/content/drive/MyDrive/mydataset.pickle','rb')\n",
        "data = pickle.load(infile)\n",
        "infile.close()"
      ]
    },
    {
      "cell_type": "code",
      "execution_count": null,
      "metadata": {
        "colab": {
          "base_uri": "https://localhost:8080/",
          "height": 36
        },
        "id": "0DDyKtvTcr1S",
        "outputId": "f8a2091f-0b33-445a-e8e0-cc3c4cf0d0ff"
      },
      "outputs": [
        {
          "data": {
            "application/vnd.google.colaboratory.intrinsic+json": {
              "type": "string"
            },
            "text/plain": [
              "'2019_06926.jpg'"
            ]
          },
          "execution_count": 38,
          "metadata": {},
          "output_type": "execute_result"
        }
      ],
      "source": [
        "data[800][2]"
      ]
    },
    {
      "cell_type": "code",
      "execution_count": null,
      "metadata": {
        "colab": {
          "base_uri": "https://localhost:8080/",
          "height": 269
        },
        "id": "upf2Q-0qrGX4",
        "outputId": "1bb3967a-21ce-4c3c-f9c8-847c94483903"
      },
      "outputs": [
        {
          "data": {
            "image/png": "[encoded data removed]",
            "text/plain": [
              "<Figure size 432x288 with 1 Axes>"
            ]
          },
          "metadata": {},
          "output_type": "display_data"
        }
      ],
      "source": [
        "import matplotlib.pyplot as plt\n",
        "imgplot = plt.imshow(data[800][0])\n",
        "plt.show()"
      ]
    },
    {
      "cell_type": "code",
      "execution_count": null,
      "metadata": {
        "id": "fSf8-Q135u8i"
      },
      "outputs": [],
      "source": [
        "!rm -rf /content/yolov5"
      ]
    },
    {
      "cell_type": "code",
      "execution_count": null,
      "metadata": {
        "colab": {
          "base_uri": "https://localhost:8080/",
          "height": 36
        },
        "id": "PsHvXoI1uNLm",
        "outputId": "89b4c17e-3200-431f-c073-65973d45e1af"
      },
      "outputs": [
        {
          "data": {
            "application/vnd.google.colaboratory.intrinsic+json": {
              "type": "string"
            },
            "text/plain": [
              "'/content/drive/MyDrive/brightnessNormalization/labels'"
            ]
          },
          "execution_count": 8,
          "metadata": {},
          "output_type": "execute_result"
        }
      ],
      "source": [
        "shutil.move('/content/content/train_data/labels', '/content/drive/MyDrive/brightnessNormalization')"
      ]
    },
    {
      "cell_type": "code",
      "execution_count": null,
      "metadata": {
        "id": "T5alnopTaPvJ"
      },
      "outputs": [],
      "source": [
        "import os\n",
        "import glob\n",
        "\n",
        "train  = os.listdir('/content/content/train_data/labels/train')\n",
        "train = [x.split('.')[0] for x in train]\n",
        "img = os.listdir('/content/drive/MyDrive/brightnessNormalization/train')\n",
        "import shutil\n",
        "for i in img:\n",
        "  file  = i.split('.')[0]\n",
        "  if file not in train:\n",
        "    shutil.move('/content/drive/MyDrive/brightnessNormalization/train/'+i, '/content/drive/MyDrive/brightnessNormalization/val')\n",
        "  else:\n",
        "    shutil.move('/content/drive/MyDrive/brightnessNormalization/train/'+i, '/content/drive/MyDrive/brightnessNormalization/tt')\n"
      ]
    },
    {
      "cell_type": "code",
      "execution_count": null,
      "metadata": {
        "id": "2intxvocsBTv"
      },
      "outputs": [],
      "source": [
        "import shutil\n",
        "for i in anotaion:\n",
        "  file  = i.split('/')[-1]\n",
        "  if file not in train:\n",
        "    shutil.move(i, '/content/content/train_data/labels/new val')"
      ]
    },
    {
      "cell_type": "markdown",
      "metadata": {
        "id": "15glLzbQx5u0"
      },
      "source": [
        "# 4. Visualize"
      ]
    },
    {
      "cell_type": "markdown",
      "metadata": {
        "id": "DLI1JmHU7B0l"
      },
      "source": [
        "## Weights & Biases Logging 🌟 NEW\n",
        "\n",
        "[Weights & Biases](https://wandb.ai/site?utm_campaign=repo_yolo_notebook) (W&B) is now integrated with YOLOv5 for real-time visualization and cloud logging of training runs. This allows for better run comparison and introspection, as well improved visibility and collaboration for teams. To enable W&B `pip install wandb`, and then train normally (you will be guided through setup on first use). \n",
        "\n",
        "During training you will see live updates at [https://wandb.ai/home](https://wandb.ai/home?utm_campaign=repo_yolo_notebook), and you can create and share detailed [Reports](https://wandb.ai/glenn-jocher/yolov5_tutorial/reports/YOLOv5-COCO128-Tutorial-Results--VmlldzozMDI5OTY) of your results. For more information see the [YOLOv5 Weights & Biases Tutorial](https://github.com/ultralytics/yolov5/issues/1289). \n",
        "\n",
        "<p align=\"left\"><img width=\"900\" alt=\"Weights & Biases dashboard\" src=\"https://user-images.githubusercontent.com/26833433/135390767-c28b050f-8455-4004-adb0-3b730386e2b2.png\"></p>"
      ]
    },
    {
      "cell_type": "markdown",
      "metadata": {
        "id": "-WPvRbS5Swl6"
      },
      "source": [
        "## Local Logging\n",
        "\n",
        "All results are logged by default to `runs/train`, with a new experiment directory created for each new training as `runs/train/exp2`, `runs/train/exp3`, etc. View train and val jpgs to see mosaics, labels, predictions and augmentation effects. Note an Ultralytics **Mosaic Dataloader** is used for training (shown below), which combines 4 images into 1 mosaic during training.\n",
        "\n",
        "> <img src=\"https://user-images.githubusercontent.com/26833433/131255960-b536647f-7c61-4f60-bbc5-cb2544d71b2a.jpg\" width=\"700\">  \n",
        "`train_batch0.jpg` shows train batch 0 mosaics and labels\n",
        "\n",
        "> <img src=\"https://user-images.githubusercontent.com/26833433/131256748-603cafc7-55d1-4e58-ab26-83657761aed9.jpg\" width=\"700\">  \n",
        "`test_batch0_labels.jpg` shows val batch 0 labels\n",
        "\n",
        "> <img src=\"https://user-images.githubusercontent.com/26833433/131256752-3f25d7a5-7b0f-4bb3-ab78-46343c3800fe.jpg\" width=\"700\">  \n",
        "`test_batch0_pred.jpg` shows val batch 0 _predictions_\n",
        "\n",
        "Training results are automatically logged to [Tensorboard](https://www.tensorflow.org/tensorboard) and [CSV](https://github.com/ultralytics/yolov5/pull/4148) as `results.csv`, which is plotted as `results.png` (below) after training completes. You can also plot any `results.csv` file manually:\n",
        "\n",
        "```python\n",
        "from utils.plots import plot_results \n",
        "plot_results('path/to/results.csv')  # plot 'results.csv' as 'results.png'\n",
        "```\n",
        "\n",
        "<img align=\"left\" width=\"800\" alt=\"COCO128 Training Results\" src=\"https://user-images.githubusercontent.com/26833433/126906780-8c5e2990-6116-4de6-b78a-367244a33ccf.png\">"
      ]
    },
    {
      "cell_type": "markdown",
      "metadata": {
        "id": "Zelyeqbyt3GD"
      },
      "source": [
        "# Environments\n",
        "\n",
        "YOLOv5 may be run in any of the following up-to-date verified environments (with all dependencies including [CUDA](https://developer.nvidia.com/cuda)/[CUDNN](https://developer.nvidia.com/cudnn), [Python](https://www.python.org/) and [PyTorch](https://pytorch.org/) preinstalled):\n",
        "\n",
        "- **Google Colab and Kaggle** notebooks with free GPU: <a href=\"https://colab.research.google.com/github/ultralytics/yolov5/blob/master/tutorial.ipynb\"><img src=\"https://colab.research.google.com/assets/colab-badge.svg\" alt=\"Open In Colab\"></a> <a href=\"https://www.kaggle.com/ultralytics/yolov5\"><img src=\"https://kaggle.com/static/images/open-in-kaggle.svg\" alt=\"Open In Kaggle\"></a>\n",
        "- **Google Cloud** Deep Learning VM. See [GCP Quickstart Guide](https://github.com/ultralytics/yolov5/wiki/GCP-Quickstart)\n",
        "- **Amazon** Deep Learning AMI. See [AWS Quickstart Guide](https://github.com/ultralytics/yolov5/wiki/AWS-Quickstart)\n",
        "- **Docker Image**. See [Docker Quickstart Guide](https://github.com/ultralytics/yolov5/wiki/Docker-Quickstart) <a href=\"https://hub.docker.com/r/ultralytics/yolov5\"><img src=\"https://img.shields.io/docker/pulls/ultralytics/yolov5?logo=docker\" alt=\"Docker Pulls\"></a>\n"
      ]
    },
    {
      "cell_type": "markdown",
      "metadata": {
        "id": "6Qu7Iesl0p54"
      },
      "source": [
        "# Status\n",
        "\n",
        "![CI CPU testing](https://github.com/ultralytics/yolov5/workflows/CI%20CPU%20testing/badge.svg)\n",
        "\n",
        "If this badge is green, all [YOLOv5 GitHub Actions](https://github.com/ultralytics/yolov5/actions) Continuous Integration (CI) tests are currently passing. CI tests verify correct operation of YOLOv5 training ([train.py](https://github.com/ultralytics/yolov5/blob/master/train.py)), testing ([val.py](https://github.com/ultralytics/yolov5/blob/master/val.py)), inference ([detect.py](https://github.com/ultralytics/yolov5/blob/master/detect.py)) and export ([export.py](https://github.com/ultralytics/yolov5/blob/master/export.py)) on macOS, Windows, and Ubuntu every 24 hours and on every commit.\n"
      ]
    },
    {
      "cell_type": "markdown",
      "metadata": {
        "id": "IEijrePND_2I"
      },
      "source": [
        "# Appendix\n",
        "\n",
        "Optional extras below. Unit tests validate repo functionality and should be run on any PRs submitted.\n"
      ]
    },
    {
      "cell_type": "code",
      "execution_count": null,
      "metadata": {
        "colab": {
          "base_uri": "https://localhost:8080/"
        },
        "id": "mcKoSIK2WSzj",
        "outputId": "a655dd8c-48ed-49dd-f134-42c5c9ea081f"
      },
      "outputs": [
        {
          "name": "stdout",
          "output_type": "stream",
          "text": [
            "\u001b[34m\u001b[1mval: \u001b[0mdata=/content/yolov5/data/coco.yaml, weights=['yolov5n.pt'], batch_size=32, imgsz=640, conf_thres=0.001, iou_thres=0.6, task=speed, device=, workers=8, single_cls=False, augment=False, verbose=False, save_txt=False, save_hybrid=False, save_conf=False, save_json=True, project=runs/val, name=exp, exist_ok=False, half=False, dnn=False\n",
            "YOLOv5 🚀 v6.1-186-g3356f26 Python-3.7.13 torch-1.11.0+cu113 CUDA:0 (Tesla T4, 15110MiB)\n",
            "\n",
            "Downloading https://github.com/ultralytics/yolov5/releases/download/v6.1/yolov5n.pt to yolov5n.pt...\n",
            "100% 3.87M/3.87M [00:00<00:00, 78.4MB/s]\n",
            "\n",
            "Fusing layers... \n",
            "YOLOv5n summary: 213 layers, 1867405 parameters, 0 gradients\n",
            "\n",
            "Dataset not found ⚠, missing paths ['/content/datasets/coco/val2017.txt']\n",
            "Downloading https://github.com/ultralytics/yolov5/releases/download/v1.0/coco2017labels.zip to ../datasets/coco2017labels.zip...\n",
            "100% 67.7M/67.7M [00:00<00:00, 273MB/s]\n",
            "Unzipping ../datasets/coco2017labels.zip...\n",
            "Downloading http://images.cocodataset.org/zips/train2017.zip to ../datasets/coco/images/train2017.zip...\n",
            "Downloading http://images.cocodataset.org/zips/test2017.zip to ../datasets/coco/images/test2017.zip...\n",
            "Downloading http://images.cocodataset.org/zips/val2017.zip to ../datasets/coco/images/val2017.zip...\n",
            "Unzipping ../datasets/coco/images/val2017.zip...\n",
            "Unzipping ../datasets/coco/images/test2017.zip...\n",
            "Traceback (most recent call last):\n",
            "  File \"/usr/local/lib/python3.7/dist-packages/torch/autograd/grad_mode.py\", line 27, in decorate_context\n",
            "    return func(*args, **kwargs)\n",
            "  File \"val.py\", line 152, in run\n",
            "    data = check_dataset(data)  # check\n",
            "  File \"/content/yolov5/utils/general.py\", line 497, in check_dataset\n",
            "    r = exec(s, {'yaml': data})  # return None\n",
            "  File \"<string>\", line 15, in <module>\n",
            "  File \"/content/yolov5/utils/general.py\", line 555, in download\n",
            "    pool.join()\n",
            "  File \"/usr/lib/python3.7/multiprocessing/pool.py\", line 556, in join\n",
            "^C\n",
            "^C\n",
            "Traceback (most recent call last):\n",
            "  File \"val.py\", line 28, in <module>\n",
            "    import torch\n",
            "  File \"/usr/local/lib/python3.7/dist-packages/torch/__init__.py\", line 199, in <module>\n",
            "    from torch._C import *  # noqa: F403\n",
            "RuntimeError: KeyboardInterrupt: \n",
            "Traceback (most recent call last):\n",
            "  File \"val.py\", line 37, in <module>\n",
            "    from models.common import DetectMultiBackend\n",
            "  File \"/content/yolov5/models/common.py\", line 27, in <module>\n",
            "    from utils.plots import Annotator, colors, save_one_box\n",
            "  File \"/content/yolov5/utils/plots.py\", line 17, in <module>\n",
            "    import seaborn as sn\n",
            "  File \"/usr/local/lib/python3.7/dist-packages/seaborn/__init__.py\", line 2, in <module>\n",
            "    from .rcmod import *  # noqa: F401,F403\n",
            "  File \"/usr/local/lib/python3.7/dist-packages/seaborn/rcmod.py\", line 7, in <module>\n",
            "    from . import palettes\n",
            "  File \"/usr/local/lib/python3.7/dist-packages/seaborn/palettes.py\", line 9, in <module>\n",
            "    from .utils import desaturate, get_color_cycle\n",
            "  File \"/usr/local/lib/python3.7/dist-packages/seaborn/utils.py\", line 10, in <module>\n",
            "    from scipy import stats\n",
            "  File \"/usr/local/lib/python3.7/dist-packages/scipy/stats/__init__.py\", line 384, in <module>\n",
            "    from .stats import *\n",
            "  File \"/usr/local/lib/python3.7/dist-packages/scipy/stats/stats.py\", line 179, in <module>\n",
            "    from scipy.spatial.distance import cdist\n",
            "  File \"/usr/local/lib/python3.7/dist-packages/scipy/spatial/__init__.py\", line 97, in <module>\n",
            "    from .kdtree import *\n",
            "  File \"/usr/local/lib/python3.7/dist-packages/scipy/spatial/kdtree.py\", line 185, in <module>\n",
            "    class KDTree(object):\n",
            "  File \"/usr/local/lib/python3.7/dist-packages/scipy/spatial/kdtree.py\", line 275, in KDTree\n",
            "    class innernode(node):\n",
            "KeyboardInterrupt\n",
            "Traceback (most recent call last):\n",
            "  File \"<frozen importlib._bootstrap>\", line 677, in _load_unlocked\n",
            "  File \"<frozen importlib._bootstrap_external>\", line 724, in exec_module\n",
            "  File \"<frozen importlib._bootstrap_external>\", line 857, in get_code\n",
            "  File \"<frozen importlib._bootstrap_external>\", line 525, in _compile_bytecode\n",
            "KeyboardInterrupt\n",
            "\n",
            "During handling of the above exception, another exception occurred:\n",
            "\n",
            "Traceback (most recent call last):\n",
            "  File \"val.py\", line 28, in <module>\n",
            "    import torch\n",
            "  File \"/usr/local/lib/python3.7/dist-packages/torch/__init__.py\", line 751, in <module>\n",
            "    from .functional import *  # noqa: F403\n",
            "  File \"/usr/local/lib/python3.7/dist-packages/torch/functional.py\", line 8, in <module>\n",
            "    import torch.nn.functional as F\n",
            "  File \"/usr/local/lib/python3.7/dist-packages/torch/nn/__init__.py\", line 1, in <module>\n",
            "    from .modules import *  # noqa: F403\n",
            "  File \"/usr/local/lib/python3.7/dist-packages/torch/nn/modules/__init__.py\", line 2, in <module>\n",
            "    from .linear import Identity, Linear, Bilinear, LazyLinear\n",
            "  File \"/usr/local/lib/python3.7/dist-packages/torch/nn/modules/linear.py\", line 6, in <module>\n",
            "    from .. import functional as F\n",
            "  File \"/usr/local/lib/python3.7/dist-packages/torch/nn/functional.py\", line 18, in <module>\n",
            "    from .._jit_internal import boolean_dispatch, _overload, BroadcastingList1, BroadcastingList2, BroadcastingList3\n",
            "  File \"/usr/local/lib/python3.7/dist-packages/torch/_jit_internal.py\", line 24, in <module>\n",
            "    import torch.distributed.rpc\n",
            "  File \"/usr/local/lib/python3.7/dist-packages/torch/distributed/rpc/__init__.py\", line 72, in <module>\n",
            "    from .server_process_global_profiler import (\n",
            "  File \"/usr/local/lib/python3.7/dist-packages/torch/distributed/rpc/server_process_global_profiler.py\", line 6, in <module>\n",
            "    from torch.autograd.profiler_legacy import profile\n",
            "  File \"/usr/local/lib/python3.7/dist-packages/torch/autograd/__init__.py\", line 17, in <module>\n",
            "    from .gradcheck import gradcheck, gradgradcheck\n",
            "  File \"<frozen importlib._bootstrap>\", line 983, in _find_and_load\n",
            "  File \"<frozen importlib._bootstrap>\", line 967, in _find_and_load_unlocked\n",
            "  File \"<frozen importlib._bootstrap>\", line 677, in _load_unlocked\n",
            "KeyboardInterrupt\n",
            "Traceback (most recent call last):\n",
            "  File \"val.py\", line 28, in <module>\n",
            "    import torch\n",
            "  File \"/usr/local/lib/python3.7/dist-packages/torch/__init__.py\", line 751, in <module>\n",
            "    from .functional import *  # noqa: F403\n",
            "  File \"/usr/local/lib/python3.7/dist-packages/torch/functional.py\", line 8, in <module>\n",
            "    import torch.nn.functional as F\n",
            "  File \"/usr/local/lib/python3.7/dist-packages/torch/nn/__init__.py\", line 1, in <module>\n",
            "    from .modules import *  # noqa: F403\n",
            "  File \"/usr/local/lib/python3.7/dist-packages/torch/nn/modules/__init__.py\", line 24, in <module>\n",
            "    from .padding import ReflectionPad1d, ReflectionPad2d, ReflectionPad3d, ReplicationPad1d, ReplicationPad2d, \\\n",
            "  File \"/usr/local/lib/python3.7/dist-packages/torch/nn/modules/padding.py\", line 334, in <module>\n",
            "KeyboardInterrupt\n",
            "Traceback (most recent call last):\n",
            "  File \"val.py\", line 28, in <module>\n",
            "    import torch\n",
            "  File \"/usr/local/lib/python3.7/dist-packages/torch/__init__.py\", line 751, in <module>\n",
            "    from .functional import *  # noqa: F403\n",
            "  File \"/usr/local/lib/python3.7/dist-packages/torch/functional.py\", line 8, in <module>\n",
            "    import torch.nn.functional as F\n",
            "  File \"/usr/local/lib/python3.7/dist-packages/torch/nn/__init__.py\", line 1, in <module>\n",
            "    from .modules import *  # noqa: F403\n",
            "  File \"/usr/local/lib/python3.7/dist-packages/torch/nn/modules/__init__.py\", line 2, in <module>\n",
            "    from .linear import Identity, Linear, Bilinear, LazyLinear\n",
            "  File \"/usr/local/lib/python3.7/dist-packages/torch/nn/modules/linear.py\", line 6, in <module>\n",
            "    from .. import functional as F\n",
            "  File \"/usr/local/lib/python3.7/dist-packages/torch/nn/functional.py\", line 18, in <module>\n",
            "    from .._jit_internal import boolean_dispatch, _overload, BroadcastingList1, BroadcastingList2, BroadcastingList3\n",
            "  File \"/usr/local/lib/python3.7/dist-packages/torch/_jit_internal.py\", line 24, in <module>\n",
            "    import torch.distributed.rpc\n",
            "  File \"/usr/local/lib/python3.7/dist-packages/torch/distributed/rpc/__init__.py\", line 68, in <module>\n",
            "    import torch.distributed.autograd as dist_autograd\n",
            "  File \"<frozen importlib._bootstrap>\", line 983, in _find_and_load\n",
            "  File \"<frozen importlib._bootstrap>\", line 967, in _find_and_load_unlocked\n",
            "  File \"<frozen importlib._bootstrap>\", line 677, in _load_unlocked\n",
            "  File \"<frozen importlib._bootstrap_external>\", line 724, in exec_module\n",
            "  File \"<frozen importlib._bootstrap_external>\", line 857, in get_code\n",
            "  File \"<frozen importlib._bootstrap_external>\", line 525, in _compile_bytecode\n",
            "KeyboardInterrupt\n",
            "\u001b[34m\u001b[1mval: \u001b[0mdata=/content/yolov5/data/coco.yaml, weights=['yolov5l.pt'], batch_size=32, imgsz=640, conf_thres=0.001, iou_thres=0.65, task=val, device=, workers=8, single_cls=False, augment=False, verbose=False, save_txt=False, save_hybrid=False, save_conf=False, save_json=True, project=runs/val, name=exp, exist_ok=False, half=False, dnn=False\n",
            "YOLOv5 🚀 v6.1-186-g3356f26 Python-3.7.13 torch-1.11.0+cu113 CUDA:0 (Tesla T4, 15110MiB)\n",
            "\n",
            "Downloading https://github.com/ultralytics/yolov5/releases/download/v6.1/yolov5l.pt to yolov5l.pt...\n",
            "100% 89.3M/89.3M [00:03<00:00, 29.4MB/s]\n",
            "\n",
            "Fusing layers... \n",
            "YOLOv5l summary: 367 layers, 46533693 parameters, 0 gradients\n",
            "\u001b[34m\u001b[1mval: \u001b[0mScanning '/content/datasets/coco/val2017' images and labels...4952 found, 48 missing, 0 empty, 0 corrupt: 100% 5000/5000 [00:14<00:00, 349.96it/s]\n",
            "\u001b[34m\u001b[1mval: \u001b[0mNew cache created: /content/datasets/coco/val2017.cache\n",
            "               Class     Images     Labels          P          R     mAP@.5 mAP@.5:.95:  74% 116/157 [01:38<00:34,  1.18it/s]\n",
            "Traceback (most recent call last):\n",
            "  File \"val.py\", line 393, in <module>\n",
            "    main(opt)\n",
            "  File \"val.py\", line 366, in main\n",
            "    run(**vars(opt))\n",
            "  File \"/usr/local/lib/python3.7/dist-packages/torch/autograd/grad_mode.py\", line 27, in decorate_context\n",
            "    return func(*args, **kwargs)\n",
            "  File \"val.py\", line 216, in run\n",
            "    out = non_max_suppression(out, conf_thres, iou_thres, labels=lb, multi_label=True, agnostic=single_cls)\n",
            "  File \"/content/yolov5/utils/general.py\", line 831, in non_max_suppression\n",
            "    i = torchvision.ops.nms(boxes, scores, iou_thres)  # NMS\n",
            "  File \"/usr/local/lib/python3.7/dist-packages/torchvision/ops/boxes.py\", line 40, in nms\n",
            "    return torch.ops.torchvision.nms(boxes, scores, iou_threshold)\n",
            "KeyboardInterrupt\n",
            "^C\n",
            "\u001b[34m\u001b[1mval: \u001b[0mdata=/content/yolov5/data/coco.yaml, weights=['yolov5x.pt'], batch_size=32, imgsz=640, conf_thres=0.001, iou_thres=0.65, task=val, device=, workers=8, single_cls=False, augment=False, verbose=False, save_txt=False, save_hybrid=False, save_conf=False, save_json=True, project=runs/val, name=exp, exist_ok=False, half=False, dnn=False\n",
            "YOLOv5 🚀 v6.1-186-g3356f26 Python-3.7.13 torch-1.11.0+cu113 CUDA:0 (Tesla T4, 15110MiB)\n",
            "\n",
            "Downloading https://github.com/ultralytics/yolov5/releases/download/v6.1/yolov5x.pt to yolov5x.pt...\n",
            "Traceback (most recent call last):\n",
            "  File \"/content/yolov5/utils/downloads.py\", line 42, in safe_download\n",
            "  File \"/usr/local/lib/python3.7/dist-packages/torch/hub.py\", line 457, in download_url_to_file\n",
            "    u = urlopen(req)\n",
            "  File \"/usr/lib/python3.7/urllib/request.py\", line 222, in urlopen\n",
            "    return opener.open(url, data, timeout)\n",
            "  File \"/usr/lib/python3.7/urllib/request.py\", line 525, in open\n",
            "    response = self._open(req, data)\n",
            "  File \"/usr/lib/python3.7/urllib/request.py\", line 543, in _open\n",
            "    '_open', req)\n",
            "  File \"/usr/lib/python3.7/urllib/request.py\", line 503, in _call_chain\n",
            "    result = func(*args)\n",
            "  File \"/usr/lib/python3.7/urllib/request.py\", line 1393, in https_open\n",
            "    context=self._context, check_hostname=self._check_hostname)\n",
            "  File \"/usr/lib/python3.7/urllib/request.py\", line 1353, in do_open\n",
            "    r = h.getresponse()\n",
            "  File \"/usr/lib/python3.7/http/client.py\", line 1373, in getresponse\n",
            "    response.begin()\n",
            "  File \"/usr/lib/python3.7/http/client.py\", line 319, in begin\n",
            "    version, status, reason = self._read_status()\n",
            "  File \"/usr/lib/python3.7/http/client.py\", line 280, in _read_status\n",
            "    line = str(self.fp.readline(_MAXLINE + 1), \"iso-8859-1\")\n",
            "  File \"/usr/lib/python3.7/socket.py\", line 589, in readinto\n",
            "    return self._sock.recv_into(b)\n",
            "  File \"/usr/lib/python3.7/ssl.py\", line 1071, in recv_into\n",
            "    return self.read(nbytes, buffer)\n",
            "  File \"/usr/lib/python3.7/ssl.py\", line 929, in read\n",
            "    return self._sslobj.read(len, buffer)\n",
            "KeyboardInterrupt\n",
            "\n",
            "During handling of the above exception, another exception occurred:\n",
            "\n",
            "Traceback (most recent call last):\n",
            "  File \"val.py\", line 393, in <module>\n",
            "    main(opt)\n",
            "  File \"val.py\", line 366, in main\n",
            "    run(**vars(opt))\n",
            "  File \"/usr/local/lib/python3.7/dist-packages/torch/autograd/grad_mode.py\", line 27, in decorate_context\n",
            "    return func(*args, **kwargs)\n",
            "  File \"val.py\", line 139, in run\n",
            "    model = DetectMultiBackend(weights, device=device, dnn=dnn, data=data, fp16=half)\n",
            "  File \"/content/yolov5/models/common.py\", line 300, in __init__\n",
            "    w = attempt_download(w)  # download if not local\n",
            "  File \"/content/yolov5/utils/downloads.py\", line 102, in attempt_download\n",
            "    error_msg=f'{file} missing, try downloading from https://github.com/{repo}/releases/{tag} or {url3}')\n",
            "  File \"/content/yolov5/utils/downloads.py\", line 50, in safe_download\n",
            "    file.unlink(missing_ok=True)  # remove partial downloads\n",
            "TypeError: unlink() got an unexpected keyword argument 'missing_ok'\n",
            "^C\n"
          ]
        }
      ],
      "source": [
        "# Reproduce\n",
        "for x in 'yolov5n', 'yolov5s', 'yolov5m', 'yolov5l', 'yolov5x':\n",
        "  !python val.py --weights {x}.pt --data coco.yaml --img 640 --task speed  # speed\n",
        "  !python val.py --weights {x}.pt --data coco.yaml --img 640 --conf 0.001 --iou 0.65  # mAP"
      ]
    },
    {
      "cell_type": "code",
      "execution_count": null,
      "metadata": {
        "id": "GMusP4OAxFu6"
      },
      "outputs": [],
      "source": [
        "# PyTorch Hub\n",
        "import torch\n",
        "\n",
        "# Model\n",
        "model = torch.hub.load('ultralytics/yolov5', 'yolov5s')\n",
        "\n",
        "# Images\n",
        "dir = 'https://ultralytics.com/images/'\n",
        "imgs = [dir + f for f in ('zidane.jpg', 'bus.jpg')]  # batch of images\n",
        "\n",
        "# Inference\n",
        "results = model(imgs)\n",
        "results.print()  # or .show(), .save()"
      ]
    },
    {
      "cell_type": "code",
      "execution_count": null,
      "metadata": {
        "id": "FGH0ZjkGjejy"
      },
      "outputs": [],
      "source": [
        "# CI Checks\n",
        "%%shell\n",
        "export PYTHONPATH=\"$PWD\"  # to run *.py. files in subdirectories\n",
        "rm -rf runs  # remove runs/\n",
        "for m in yolov5n; do  # models\n",
        "  python train.py --img 64 --batch 32 --weights $m.pt --epochs 1 --device 0  # train pretrained\n",
        "  python train.py --img 64 --batch 32 --weights '' --cfg $m.yaml --epochs 1 --device 0  # train scratch\n",
        "  for d in 0 cpu; do  # devices\n",
        "    python val.py --weights $m.pt --device $d # val official\n",
        "    python val.py --weights runs/train/exp/weights/best.pt --device $d # val custom\n",
        "    python detect.py --weights $m.pt --device $d  # detect official\n",
        "    python detect.py --weights runs/train/exp/weights/best.pt --device $d  # detect custom\n",
        "  done\n",
        "  python hubconf.py  # hub\n",
        "  python models/yolo.py --cfg $m.yaml  # build PyTorch model\n",
        "  python models/tf.py --weights $m.pt  # build TensorFlow model\n",
        "  python export.py --img 64 --batch 1 --weights $m.pt --include torchscript onnx  # export\n",
        "done"
      ]
    },
    {
      "cell_type": "code",
      "execution_count": null,
      "metadata": {
        "id": "gogI-kwi3Tye"
      },
      "outputs": [],
      "source": [
        "# Profile\n",
        "from utils.torch_utils import profile\n",
        "\n",
        "m1 = lambda x: x * torch.sigmoid(x)\n",
        "m2 = torch.nn.SiLU()\n",
        "results = profile(input=torch.randn(16, 3, 640, 640), ops=[m1, m2], n=100)"
      ]
    },
    {
      "cell_type": "code",
      "execution_count": null,
      "metadata": {
        "id": "RVRSOhEvUdb5"
      },
      "outputs": [],
      "source": [
        "# Evolve\n",
        "!python train.py --img 640 --batch 64 --epochs 100 --data coco128.yaml --weights yolov5s.pt --cache --noautoanchor --evolve\n",
        "!d=runs/train/evolve && cp evolve.* $d && zip -r evolve.zip $d && gsutil mv evolve.zip gs://bucket  # upload results (optional)"
      ]
    },
    {
      "cell_type": "code",
      "execution_count": null,
      "metadata": {
        "id": "BSgFCAcMbk1R"
      },
      "outputs": [],
      "source": [
        "# VOC\n",
        "for b, m in zip([64, 64, 64, 32, 16], ['yolov5n', 'yolov5s', 'yolov5m', 'yolov5l', 'yolov5x']):  # batch, model\n",
        "  !python train.py --batch {b} --weights {m}.pt --data VOC.yaml --epochs 50 --img 512 --hyp hyp.VOC.yaml --project VOC --name {m} --cache"
      ]
    },
    {
      "cell_type": "code",
      "execution_count": null,
      "metadata": {
        "id": "VTRwsvA9u7ln"
      },
      "outputs": [],
      "source": [
        "# TensorRT \n",
        "# https://docs.nvidia.com/deeplearning/tensorrt/install-guide/index.html#installing-pip\n",
        "!pip install -U nvidia-tensorrt --index-url https://pypi.ngc.nvidia.com  # install\n",
        "!python export.py --weights yolov5s.pt --include engine --imgsz 640 640 --device 0  # export\n",
        "!python detect.py --weights yolov5s.engine --imgsz 640 640 --device 0  # inference"
      ]
    }
  ],
  "metadata": {
    "accelerator": "GPU",
    "colab": {
      "collapsed_sections": [],
      "machine_shape": "hm",
      "name": "Copy of YOLOv5 Tutorial",
      "provenance": []
    },
    "kernelspec": {
      "display_name": "Python 3",
      "name": "python3"
    },
    "widgets": {
      "application/vnd.jupyter.widget-state+json": {
        "11415bab172a4904b73e29ff60f6fce1": {
          "model_module": "@jupyter-widgets/controls",
          "model_module_version": "1.5.0",
          "model_name": "ProgressStyleModel",
          "state": {
            "_model_module": "@jupyter-widgets/controls",
            "_model_module_version": "1.5.0",
            "_model_name": "ProgressStyleModel",
            "_view_count": null,
            "_view_module": "@jupyter-widgets/base",
            "_view_module_version": "1.2.0",
            "_view_name": "StyleView",
            "bar_color": null,
            "description_width": ""
          }
        },
        "3cef138c5f7743858bb0f87b65dd3c76": {
          "model_module": "@jupyter-widgets/controls",
          "model_module_version": "1.5.0",
          "model_name": "DescriptionStyleModel",
          "state": {
            "_model_module": "@jupyter-widgets/controls",
            "_model_module_version": "1.5.0",
            "_model_name": "DescriptionStyleModel",
            "_view_count": null,
            "_view_module": "@jupyter-widgets/base",
            "_view_module_version": "1.2.0",
            "_view_name": "StyleView",
            "description_width": ""
          }
        },
        "520e5b7e80eb450188261cffbc574d25": {
          "model_module": "@jupyter-widgets/base",
          "model_module_version": "1.2.0",
          "model_name": "LayoutModel",
          "state": {
            "_model_module": "@jupyter-widgets/base",
            "_model_module_version": "1.2.0",
            "_model_name": "LayoutModel",
            "_view_count": null,
            "_view_module": "@jupyter-widgets/base",
            "_view_module_version": "1.2.0",
            "_view_name": "LayoutView",
            "align_content": null,
            "align_items": null,
            "align_self": null,
            "border": null,
            "bottom": null,
            "display": null,
            "flex": null,
            "flex_flow": null,
            "grid_area": null,
            "grid_auto_columns": null,
            "grid_auto_flow": null,
            "grid_auto_rows": null,
            "grid_column": null,
            "grid_gap": null,
            "grid_row": null,
            "grid_template_areas": null,
            "grid_template_columns": null,
            "grid_template_rows": null,
            "height": null,
            "justify_content": null,
            "justify_items": null,
            "left": null,
            "margin": null,
            "max_height": null,
            "max_width": null,
            "min_height": null,
            "min_width": null,
            "object_fit": null,
            "object_position": null,
            "order": null,
            "overflow": null,
            "overflow_x": null,
            "overflow_y": null,
            "padding": null,
            "right": null,
            "top": null,
            "visibility": null,
            "width": null
          }
        },
        "5dd95d3eda8b49f7910620edcdcbdcdc": {
          "model_module": "@jupyter-widgets/base",
          "model_module_version": "1.2.0",
          "model_name": "LayoutModel",
          "state": {
            "_model_module": "@jupyter-widgets/base",
            "_model_module_version": "1.2.0",
            "_model_name": "LayoutModel",
            "_view_count": null,
            "_view_module": "@jupyter-widgets/base",
            "_view_module_version": "1.2.0",
            "_view_name": "LayoutView",
            "align_content": null,
            "align_items": null,
            "align_self": null,
            "border": null,
            "bottom": null,
            "display": null,
            "flex": null,
            "flex_flow": null,
            "grid_area": null,
            "grid_auto_columns": null,
            "grid_auto_flow": null,
            "grid_auto_rows": null,
            "grid_column": null,
            "grid_gap": null,
            "grid_row": null,
            "grid_template_areas": null,
            "grid_template_columns": null,
            "grid_template_rows": null,
            "height": null,
            "justify_content": null,
            "justify_items": null,
            "left": null,
            "margin": null,
            "max_height": null,
            "max_width": null,
            "min_height": null,
            "min_width": null,
            "object_fit": null,
            "object_position": null,
            "order": null,
            "overflow": null,
            "overflow_x": null,
            "overflow_y": null,
            "padding": null,
            "right": null,
            "top": null,
            "visibility": null,
            "width": null
          }
        },
        "8c2d91f564de45f8a403386eeeccac27": {
          "model_module": "@jupyter-widgets/controls",
          "model_module_version": "1.5.0",
          "model_name": "HTMLModel",
          "state": {
            "_dom_classes": [],
            "_model_module": "@jupyter-widgets/controls",
            "_model_module_version": "1.5.0",
            "_model_name": "HTMLModel",
            "_view_count": null,
            "_view_module": "@jupyter-widgets/controls",
            "_view_module_version": "1.5.0",
            "_view_name": "HTMLView",
            "description": "",
            "description_tooltip": null,
            "layout": "IPY_MODEL_eac18040908042dbae67a47d23e95b47",
            "placeholder": "​",
            "style": "IPY_MODEL_e0fc1d6eb478469c9098aa9518d7b358",
            "value": " 780M/780M [01:17&lt;00:00, 17.7MB/s]"
          }
        },
        "8f4ffda703ac4348ab7edf1d12a188e1": {
          "model_module": "@jupyter-widgets/controls",
          "model_module_version": "1.5.0",
          "model_name": "FloatProgressModel",
          "state": {
            "_dom_classes": [],
            "_model_module": "@jupyter-widgets/controls",
            "_model_module_version": "1.5.0",
            "_model_name": "FloatProgressModel",
            "_view_count": null,
            "_view_module": "@jupyter-widgets/controls",
            "_view_module_version": "1.5.0",
            "_view_name": "ProgressView",
            "bar_style": "success",
            "description": "",
            "description_tooltip": null,
            "layout": "IPY_MODEL_c3782c6dda80400ba7f8c5345624bf87",
            "max": 818322941,
            "min": 0,
            "orientation": "horizontal",
            "style": "IPY_MODEL_11415bab172a4904b73e29ff60f6fce1",
            "value": 818322941
          }
        },
        "c3782c6dda80400ba7f8c5345624bf87": {
          "model_module": "@jupyter-widgets/base",
          "model_module_version": "1.2.0",
          "model_name": "LayoutModel",
          "state": {
            "_model_module": "@jupyter-widgets/base",
            "_model_module_version": "1.2.0",
            "_model_name": "LayoutModel",
            "_view_count": null,
            "_view_module": "@jupyter-widgets/base",
            "_view_module_version": "1.2.0",
            "_view_name": "LayoutView",
            "align_content": null,
            "align_items": null,
            "align_self": null,
            "border": null,
            "bottom": null,
            "display": null,
            "flex": null,
            "flex_flow": null,
            "grid_area": null,
            "grid_auto_columns": null,
            "grid_auto_flow": null,
            "grid_auto_rows": null,
            "grid_column": null,
            "grid_gap": null,
            "grid_row": null,
            "grid_template_areas": null,
            "grid_template_columns": null,
            "grid_template_rows": null,
            "height": null,
            "justify_content": null,
            "justify_items": null,
            "left": null,
            "margin": null,
            "max_height": null,
            "max_width": null,
            "min_height": null,
            "min_width": null,
            "object_fit": null,
            "object_position": null,
            "order": null,
            "overflow": null,
            "overflow_x": null,
            "overflow_y": null,
            "padding": null,
            "right": null,
            "top": null,
            "visibility": null,
            "width": null
          }
        },
        "d90eeb56398f458086e3b2b41dbd9fec": {
          "model_module": "@jupyter-widgets/controls",
          "model_module_version": "1.5.0",
          "model_name": "HBoxModel",
          "state": {
            "_dom_classes": [],
            "_model_module": "@jupyter-widgets/controls",
            "_model_module_version": "1.5.0",
            "_model_name": "HBoxModel",
            "_view_count": null,
            "_view_module": "@jupyter-widgets/controls",
            "_view_module_version": "1.5.0",
            "_view_name": "HBoxView",
            "box_style": "",
            "children": [
              "IPY_MODEL_d91d8347f17349a4987cea29eac0a49c",
              "IPY_MODEL_8f4ffda703ac4348ab7edf1d12a188e1",
              "IPY_MODEL_8c2d91f564de45f8a403386eeeccac27"
            ],
            "layout": "IPY_MODEL_5dd95d3eda8b49f7910620edcdcbdcdc"
          }
        },
        "d91d8347f17349a4987cea29eac0a49c": {
          "model_module": "@jupyter-widgets/controls",
          "model_module_version": "1.5.0",
          "model_name": "HTMLModel",
          "state": {
            "_dom_classes": [],
            "_model_module": "@jupyter-widgets/controls",
            "_model_module_version": "1.5.0",
            "_model_name": "HTMLModel",
            "_view_count": null,
            "_view_module": "@jupyter-widgets/controls",
            "_view_module_version": "1.5.0",
            "_view_name": "HTMLView",
            "description": "",
            "description_tooltip": null,
            "layout": "IPY_MODEL_520e5b7e80eb450188261cffbc574d25",
            "placeholder": "​",
            "style": "IPY_MODEL_3cef138c5f7743858bb0f87b65dd3c76",
            "value": "100%"
          }
        },
        "e0fc1d6eb478469c9098aa9518d7b358": {
          "model_module": "@jupyter-widgets/controls",
          "model_module_version": "1.5.0",
          "model_name": "DescriptionStyleModel",
          "state": {
            "_model_module": "@jupyter-widgets/controls",
            "_model_module_version": "1.5.0",
            "_model_name": "DescriptionStyleModel",
            "_view_count": null,
            "_view_module": "@jupyter-widgets/base",
            "_view_module_version": "1.2.0",
            "_view_name": "StyleView",
            "description_width": ""
          }
        },
        "eac18040908042dbae67a47d23e95b47": {
          "model_module": "@jupyter-widgets/base",
          "model_module_version": "1.2.0",
          "model_name": "LayoutModel",
          "state": {
            "_model_module": "@jupyter-widgets/base",
            "_model_module_version": "1.2.0",
            "_model_name": "LayoutModel",
            "_view_count": null,
            "_view_module": "@jupyter-widgets/base",
            "_view_module_version": "1.2.0",
            "_view_name": "LayoutView",
            "align_content": null,
            "align_items": null,
            "align_self": null,
            "border": null,
            "bottom": null,
            "display": null,
            "flex": null,
            "flex_flow": null,
            "grid_area": null,
            "grid_auto_columns": null,
            "grid_auto_flow": null,
            "grid_auto_rows": null,
            "grid_column": null,
            "grid_gap": null,
            "grid_row": null,
            "grid_template_areas": null,
            "grid_template_columns": null,
            "grid_template_rows": null,
            "height": null,
            "justify_content": null,
            "justify_items": null,
            "left": null,
            "margin": null,
            "max_height": null,
            "max_width": null,
            "min_height": null,
            "min_width": null,
            "object_fit": null,
            "object_position": null,
            "order": null,
            "overflow": null,
            "overflow_x": null,
            "overflow_y": null,
            "padding": null,
            "right": null,
            "top": null,
            "visibility": null,
            "width": null
          }
        }
      }
    }
  },
  "nbformat": 4,
  "nbformat_minor": 0
}